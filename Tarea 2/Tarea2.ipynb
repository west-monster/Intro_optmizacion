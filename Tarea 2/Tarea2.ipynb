{
 "cells": [
  {
   "cell_type": "markdown",
   "id": "31c9cf54",
   "metadata": {},
   "source": [
    "# Tarea 2\n",
    "\n",
    "\n",
    "David Antonio Garzón Avendaño\n",
    "\n",
    "Resolver los siguientes puntos:\n",
    "\n",
    "1-  Del libro guía resolver los siguientes ejercicios: \n",
    "    2.1, 2.3, 2.4, 2.5, 2.8, 2.9, 2.10, 2.13, 2.14, 2.15, 2.16, 2.17, 2.18\n",
    "    \n",
    "2-  Implementar un algoritmo para determinar el cono convexo de un conjunto de puntos en cualquier dimensión.\n",
    "    \n",
    "3-  Verificar que el conjunto de soluciones de un conjunto de desigualdades de matrices lineales es convexa."
   ]
  },
  {
   "cell_type": "markdown",
   "id": "8cc69cce",
   "metadata": {},
   "source": [
    "## Punto 1"
   ]
  },
  {
   "cell_type": "markdown",
   "id": "97630fb0",
   "metadata": {},
   "source": [
    "### 2.1\n",
    "Let $C \\in R^n$ be a convex set, with $x_1,...,x_k \\in C$, and let $\\theta_1, ... ,\\theta_k \\in R$ satisfy $\\theta_i \\geq 0$, $\\theta_1 + ... + \\theta_k = 1$. Show that $\\theta_1x_1 + ... + \\theta_k x_k \\in C$ ( The  deﬁnition  of  convexity  is  that this  holds  for  $k  =  2$;  you  must  show  it  for  arbitrary  k). *Hint*: Use induction on $k$\n"
   ]
  },
  {
   "cell_type": "markdown",
   "id": "956e010b",
   "metadata": {},
   "source": [
    "### Demostración:\n",
    "\n",
    "Para esta demostración vamos a usar inducción sobre k partiendo desde k = 2. \n",
    "\n",
    "Caso base: Supongamos k = 2, entonces por hipotesis se tiene que $x_1, x_2 \\in C$ y $ \\theta_1 , \\theta_2 \\in R$ tal que $\\theta_i \\geq 0$ y $\\theta_1 + \\theta_2 = 1$, entonces la combinación $\\theta_1 x_1 + \\theta_2 x_2 \\in C$ por definición de conjunto convexo. \n",
    "\n",
    "Demostración para k + 1: Supongamos que para $k$ se cumple que $ \\theta_1 x_1 + ... + \\theta_k x_k \\in C$, por hipotesis tenemos que  $x_1, ... ,x_{k+1} \\in C$ y $ \\theta_1, ... ,\\theta_{k+1} \\in R$ tal que $\\theta_i \\geq 0$ y $\\theta_1 + ... +  \\theta_{k+1} = 1$. Tomemos: $$ \\theta_1 x_1 + ... + \\theta_{k+1}x_{k+1}$$\n",
    "\n",
    "Note que como $\\theta_1 + ... +  \\theta_{k+1} = 1$ existe un $\\theta_p \\neq 1$ para $ 1 \\leq p \\leq k$, usando este $\\theta_p$ para factorizar la expreción anterior:\n",
    "\n",
    "Sea: $a_i = \\frac{\\theta_i}{(1 - \\theta_p)}$\n",
    "\n",
    "$$\\theta_p x_p + (1 - \\theta_p)(a_1 x_1 + ... + a_{p-1} x_{p-1} + a_{p+1} x_{p+1} + ... + a_{k+1}x_{k+1}) $$\n",
    "\n",
    "Note que $a_i \\leq 0$, entonces en particular:\n",
    "\n",
    "$$ \\frac{a_1 + ... + a_{p-1} + a_{p+1} + ... + a_{k+1}}{1- \\theta_p} = \\frac{1- \\theta_p}{1- \\theta_p}  =  1$$ \n",
    "\n",
    "Por lo anterior tenemos que $(a_1 x_1 + ... + a_{p-1} x_{p-1} + a_{p+1} x_{p+1} + ... + a_{k+1}x_{k+1}) \\in C$ y como $x_1 \\in C$ tenemos que:\n",
    "\n",
    "$$\\theta_p x_p + (1 - \\theta_p)(a_1 x_1 + ... + a_{p-1} x_{p-1} + a_{p+1} x_{p+1} + ... + a_{k+1}x_{k+1}) \\in C$$\n",
    "\n",
    "$$\\theta_1 x_1 + ... + \\theta_{k+1}x_{k+1} \\in C$$\n",
    "\n",
    "\n",
    "\n"
   ]
  },
  {
   "cell_type": "markdown",
   "id": "26267314",
   "metadata": {},
   "source": [
    "### 2.3\n",
    "\n",
    "*Midpoint convexity*. A set $C$ is *midpoint convex* if whenever two points $a,b$ are in $C$, the average or midpoint $\\frac{(a+b)}{2}$ is in C. Obviously a convex set is midpoint convex. It can be proved that under mild conditions midpoint convexity implies convexity. As a simple case, prove that if $C$ is closed and midpoint convex, then $C$ is convex."
   ]
  },
  {
   "cell_type": "markdown",
   "id": "6d3a69a7",
   "metadata": {},
   "source": [
    "### Demostración: \n",
    "\n",
    "Suponemos que C es un conjunto midpoint convex, entonces para cualquier par de puntos $x_1 , x_2 \\in C$ tenemos que el punto $x_3 = \\frac{x_1 + x_2}{2} \\in C$. Queremos demostrar que cualquier punto $p$ en el segmento que une a $x_1$ y $x_2$ está en $C$. Para ello construyamos la siguiente sucesión  \n",
    "\n",
    "\n",
    "$$ S_0 = [x_1 , x_2] $$\n",
    "\n",
    "Si $p \\in [x_1 , \\frac{x_1 + x_2}{2}]$ entonces:  $$ S_{i+1} = \\left[x_1 , \\frac{x_1 + x_2}{2}\\right]$$\n",
    "Si $p \\in (\\frac{x_1 + x_2}{2}, x_2 ]$ entonces:  $$ S_{i+1} = \\left[\\frac{x_1 + x_2}{2}, x_2\\right]$$\n",
    "\n",
    "Usando el hecho de que $C$ es cerrado, podemos asegurar que esta sucesión converge a $p$ luego $p\\in C$. Por otro lado como cada punto de la suceción es el punto medio entre $x_1$ y $x_2$ (que pertenece al segmento de recta) o punto medio de puntos medios del segmento de recta (que tambien pertenecen al segmento de recta entre $x_1$ y $x_2$) tenemos que $p$ pertenece al segmento de recta entre $x_1$ y $x_2$ y puede ser cualquier punto. \n"
   ]
  },
  {
   "cell_type": "markdown",
   "id": "dfe3fe91",
   "metadata": {},
   "source": [
    "### 2.4\n",
    "\n",
    "Show  that  the  convex  hull  of  a  set  $S$   is  the  intersection  of  all  convex  sets  that  contain  $S$. (The  same  method  can  be  used  to  show  that  the  conic,  or  affine,  or  linear  hull  of  a  set  S is  the  intersection  of  all  conic  sets,  or  aﬃne  sets,  or  subspaces  that  contain  S.)\n"
   ]
  },
  {
   "cell_type": "markdown",
   "id": "259531ea",
   "metadata": {},
   "source": [
    "### Demostración\n",
    "\n",
    "Queremos ver que la envolvente convexa de $S$ es la intersección de todos los conjuntos convexos que contienen a S, entonces demostraremos la doble contenencia, sea $E = \\cap_{i \\in I} C_i$ tal que $S \\subseteq C_i$ y $C_i$ es un conjunto convexo: \n",
    "\n",
    "$Conv(S) \\subseteq E$ \n",
    "\n",
    "Sea $x \\in Conv(S)$, entonces $x = \\sum \\theta_i x_i$ para $x_i \\in S$. Como $S \\subseteq E$ entonces $x_i \\in E$. Además como $E$ es convexo, entonces $\\sum \\theta_i x_i \\in E$, así tenemos que $Conv(S) \\subseteq E$ \n",
    "\n",
    "$E \\subseteq Conv(S)$ \n",
    "\n",
    "Sea $x \\in E$, entonces como $E$ es convexo por definición, debe contener a Conv(S), pues Conv(S) es el conjunto convexo más pequeño que contiene a S.\n",
    "\n",
    "$Conv(S) = E$ \n"
   ]
  },
  {
   "cell_type": "markdown",
   "id": "455f737a",
   "metadata": {},
   "source": [
    "### 2.5\n",
    "\n",
    "What   is   the   distance   between   two   parallel   hyperplanes $\\{x \\in R^n | a^Tx=b_1\\}$ y $\\{ x \\in R^n | a^Tx = b_2\\}$\n"
   ]
  },
  {
   "cell_type": "markdown",
   "id": "247d7642",
   "metadata": {},
   "source": [
    "### Demostración\n",
    "\n",
    "La distancia entre $\\{x \\in R^n | a^T x = b_1\\}$ y $\\{x \\in R^n | a^T x = b_2\\}$ \n",
    "\n",
    "Sea $x_1$ un elemento del hiperplano $\\{x \\in R^n | a^T x = b_1\\}$, ahora tomemos la linea $L$ que pasa por $x_1$ en la dirección del vector normal a. Note que la recta $L$ está dada por la ecuación $x_1 + a t$ para todo $t \\in R$, ahora veamos la intersección con el hiperplano $\\{x \\in R^n | a^T x = b_2\\}$: \n",
    "$$ a^T(x_1 + at)= b_2$$\n",
    "\n",
    "Despejando $t$ de la ecuación anterior tenemos que:\n",
    "\n",
    "$$ a^T x_1 + a^T a t = b_2 \\Rightarrow t = \\frac{b_2 - a^T x_1}{a^T a}$$\n",
    "\n",
    "Sea $x_2 \\in \\{x \\in R^n | a^T x = b_2\\}$, Veamos que el punto de intersección de nuestra linea $L$ con $x_2$ está definida por la ecuación:\n",
    "$$ x_2 = x_1 + a \\left(\\frac{b_2 - a^T x_1}{a^T a}\\right) $$\n",
    "\n",
    "Usando que $ a^T x_1 = b_1$ y $a^T a = ||a||^2$\n",
    "\n",
    "$$  x_2 = x_1 + a \\left(\\frac{b_2 - b_1}{||a||^2} \\right) $$\n",
    "\n",
    "Como deseamos conocer la distancia entre $x_1$ y $x_2$ obtenemos que: \n",
    "\n",
    "$$  ||x_1 - x_2|| = ||a|| \\left(\\frac{|b_2 - b_1|}{||a||^2} \\right) = \\frac{|b_2 - b_1|}{||a||} $$"
   ]
  },
  {
   "cell_type": "markdown",
   "id": "89175e12",
   "metadata": {},
   "source": [
    "### 2.8\n",
    "\n",
    "Which   of   the   following   sets   $S$    are   polyhedra?      If   possible,   express   $S$    in   the   form  $S = \\{ x| Ax \\preceq b, Fx = g\\}$\n",
    "\n",
    "**(a)** $S = \\{ y_1a_1 + y_2a_2 | -1 \\leq y_1 \\leq 1, -1 \\leq y_2 \\leq 1\\}$, where $a_1, a_2 \\in R^n$\n",
    "\n",
    "**(b)** $S = \\{x \\in R^n | x\\succeq 0, 1^Tx = 1, \\sum_{i=1}^n x_ia_i = b_1, \\sum_{i=1}^n x_ia_i^2 = b_2\\}$, where $a_1,...,a_n \\in R$ and $b_1, b_2 \\in R$\n",
    "\n",
    "**(c)** $S = \\{ x\\in R^n | x\\succeq 0, x^Ty\\leq 1 \\text{for all } y \\text{ with } ||y||_2 = 1\\}$ \n",
    "\n",
    "**(d)** $S = \\{ x \\in R^n | x\\succeq 0, x^Ty \\leq 1 \\text{for all } y \\text{ with } \\sum_{i=1}^n |y_i| = 1\\}$ "
   ]
  },
  {
   "cell_type": "markdown",
   "id": "47d5ba1a",
   "metadata": {},
   "source": [
    "### Demostración\n",
    "\n",
    "(a) $S$ si es un polihedro, en el caso de $R^3$ podemos ver que $S$ es un paralelogramo con esquinas en $a_1 +a_2$, $a_1 - a_2$, $-a_1 +a_2$ y $-a_1-a_2$. Con esto en mente podemos generalizar $S$ a $R^n$ y lo podemos expresar como la intersección de:\n",
    "\n",
    "$S_1$ = El plano definido por $a_1$ y $a_2$\n",
    "\n",
    "$S_2 = \\{z+y_1a_1 +y_2a_2 | a^T_1z = a^T_2z =, -1 \\leq y_1 \\leq 1\\}$\n",
    "\n",
    "$S_3 = \\{z+y_1a_1 +y_2a_2 | a^T_1z = a^T_2z =, -1 \\leq y_2 \\leq 1\\}$\n",
    "\n",
    "Note que estos tres conjutos se pueden expresar como desigualdades lineales, luego $S$ es un polihedro\n",
    "\n",
    "\n",
    "(b) $S$ si es un polihedro y se puede definir con las inecuaciones lineales $x_k \\geq 0$ y las otras 3 restricciones del conjunto\n",
    "\n",
    "\n",
    "(c) $S$ No puede ser expresado con desigualdades, note que en este caso el conjunto es la intersección de un ortante con una esfera en $R^n$, en este caso para representar esta intersección harian falta una cantidad infinita de desigualdades pues se requiere modelar una sección de una esfera.\n",
    "\n",
    "(d) $S$ si es un polihedro y se puede definir como la intersección del conjunto $\\{x | ||x|| \\leq 1, k =1,...,n\\}$ y un ortante no negativo de $R^n_+$, esto ya que:\n",
    "\n",
    "$x^Ty \\leq 1$ para todo $y$ con $\\sum_{i=1}^n |y_i|$ implica que $|x_i| \\leq 1, i=1,...,n$ "
   ]
  },
  {
   "cell_type": "markdown",
   "id": "45744438",
   "metadata": {},
   "source": [
    "### 2.9 \n",
    "*Voronoi   sets   and   polyhedral   decomposition*. Let $x_0,...,x_K \\in R^n$. Consider the set of points that are closer (in Euclidean norm) to $x_0$ than the other $x_i$, *i.e*,\n",
    "\n",
    "$$ V = \\{ x \\in R^n | ||x - x_0||_2 \\leq ||x - x_i||_2, i = 1,...,K\\}$$\n",
    "\n",
    "$V$ is called the *Voronoi region* arround $x_0$ with respect to $x_1, ..., x_K$ \n",
    "\n",
    "**(a)** Show that $V$ is a polyhedron. Express $V$ in the form $V = \\{ x | Ax \\preceq b\\}$\n",
    "\n",
    "**(b)** Conversely,  given a polyhedron $P$  with nonempty interior,  show how to ﬁnd $x_0,...,x_K$ so that the polyhedron is the Voronoi region of $x_0$ with respect to $x_1,...,x_K$.\n",
    "\n",
    "**(c)** We can also consider the sets \n",
    "\n",
    "$$ V_k = \\{ x \\in R^n  | ||x - x_k||_2 \\leq ||x-x_i||_2, i \\neq k\\}$$\n",
    "\n",
    "The set $V_k$ consists of points in $R^n$ for which the closest point in the set $\\{x_0,...,x_K\\}$ is $x_k$.\n",
    "\n",
    "The sets $V_0,...,V_K$ give a polyhedral decomposition of $R^n$. More precisely, the sets $V_k$ are polyhedra, $\\bigcup_{k=0}^K V_k = R^n$, and **int** $V_i \\cap$ **int** $V_j = \\emptyset$ for $i \\neq j$, *i.e*, $V_i$ and $V_j$ intersect at most along a boundary.\n",
    "\n",
    "Suppose that $P_1, ..., P_m$ are polyhedra such that $\\bigcup_{i=1}^m P_i = R^n$, and **int** $P_i \\cap$ **int** $P_j = \\emptyset$ for $i \\neq j$. Can this polyhedral decomposition of $R^n$ be described as the Voronoi regions generated by an appropriate set of points?"
   ]
  },
  {
   "cell_type": "markdown",
   "id": "098f8c75",
   "metadata": {},
   "source": [
    "### Demostración\n",
    "\n",
    "(a) Mostraremos que V es un poliedro. Exprese $V$ en la forma $V = \\{ x | Ax \\preceq b \\}$\n",
    "\n",
    "Partimos de $||x-x_0|| \\leq ||x-x_i||$, note que como por definición la norma es positiva, podemos asumir la siguiente desigualdad: \n",
    "\n",
    "$$ (||x-x_0||)^2 \\leq (||x-x_i||)^2 \\Leftrightarrow (x-x_0)^T (x-x_0) \\leq (x-x_i)^T(x-x_i)$$\n",
    "\n",
    "Ahora operemos la desigualdad resultante:\n",
    "\n",
    "$$(x-x_0)^T (x-x_0) \\leq (x-x_i)^T(x-x_i)$$\n",
    "\n",
    "$$(x_0^T-x^T)(x-x_0) \\leq (x_i^T - x^T)(x-x_i)$$\n",
    "\n",
    "$$x^Tx -2x_0^Tx + x_0^Tx_0 \\leq x^Tx - 2x_i^Tx + x_i^Tx_i$$\n",
    "\n",
    "$$-2x_0^Tx + x_0^Tx_0 \\leq - 2x_i^Tx + x_i^Tx_i $$\n",
    "\n",
    "$$-2x_0^Tx + 2x_i^Tx \\leq x_i^Tx_i - x_0^Tx_0$$\n",
    "\n",
    "$$2(x_i^T - x_0^T)x \\leq x_i^Tx_i - x_0^Tx_0$$\n",
    "\n",
    "De esta manera tenemos que podemos expresar $V$ como $\\{ x | Ax \\preceq b \\}$ de la siguiente manera: \n",
    "\n",
    "$$A = 2 \\left[ \\begin{matrix}\n",
    "x_{1}^T - x_{0}^T \\\\ \n",
    "x_{2}^T - x_{0}^T \\\\ \n",
    "\\vdots \\\\\n",
    "x_{K}^T - x_{0}^T\n",
    "\\end{matrix} \\right] $$\n",
    "\n",
    "$$b =  \\left[ \\begin{matrix}\n",
    "x_{1}^Tx_1 - x_{0}^Tx_0 \\\\ \n",
    "x_{2}^Tx_2 - x_{0}^Tx_0 \\\\ \n",
    "\\vdots \\\\\n",
    "x_{K}^Tx_K - x_{0}^Tx_0\n",
    "\\end{matrix} \\right] $$\n",
    "\n",
    "(b) Supongamos $V = \\{x | Ax \\preceq b\\}$ \n",
    "Sea $x_0 \\in \\{x | Ax \\preceq b\\}$, vamos a construir el resto de puntos $x_i$ reflejando $X_0$ respectp a hiperplanos de la forma $ \\{ x | a_i^Tx_i + b_i\\}$, en este caso nuestro vector va a ser de la forma $x_i = x_0 + a_i\\lambda$ donde $\\lambda$ es un escalar que hace que la distancia de $x_i$ al hiperplano sea igual que la distancia de $x_0$ al mismo hiperplano. \n",
    "Entonces nos queda la siguiente ecuación:\n",
    "\n",
    "$$b_i - a_i^Tx_0 = a_i^Tx_i - b_i$$\n",
    "\n",
    "Remplazamos $x_i= x_0 + a_i\\lambda$ y despejamos $\\lambda$\n",
    "\n",
    "$$b_i - a_i^Tx_0 = a_i^T (x_0 + a_i\\lambda) - b_i$$\n",
    "\n",
    "$$b_i - a_i^Tx_0 = a_i^Tx_0 + a_i^Ta_i\\lambda - b_i$$\n",
    "\n",
    "$$ 2 b_i - 2 a_i^Tx_0 = a_i^Ta_i\\lambda$$\n",
    "\n",
    "$$ \\frac{2(b_i - a_i^Tx_0)}{a_i^Ta_i} = \\lambda $$\n",
    "\n",
    "$$ \\frac{2(b_i - a_i^Tx_0)}{||a_i||^2} = \\lambda $$\n",
    "\n",
    "Con esto tenemos que la forma para construir nuestros $x_i$ es: \n",
    "\n",
    "$$ x_i = x_0 + \\frac{2(b_i - a_i^Tx_0)}{||a_i||^2} a_i$$\n",
    "\n",
    "(c) Falso, tomemos los siguientes puntos en $R^2$:"
   ]
  },
  {
   "cell_type": "markdown",
   "id": "826faf96",
   "metadata": {},
   "source": [
    "<img src=\"imag.png\" alt=\"Ej\" style=\"float: left; margin-right: 10px; width:500px;text-align:center; margin-left: 20%\"/>"
   ]
  },
  {
   "cell_type": "markdown",
   "id": "e23adc3e",
   "metadata": {},
   "source": [
    "Note que si toma un punto en la región delimitada por $y = -3$ y  $y = 3$ y lo reflejamos, si es cercano a la recta  $y = -3$ o a la recta  $y = 3$ este punto no va a pertenecer a la región delimitada por $y = 3$ y  $y = 4$ o a la región $y = -3$ y  $y = -4$. Luego no es posible construir una este poliedro usando regiones de Voronoi"
   ]
  },
  {
   "cell_type": "markdown",
   "id": "9e2dc3df",
   "metadata": {},
   "source": [
    "### 2.10\n",
    "\n",
    "*Solution set of a quadratic inequality*. Let $C \\subseteq R^n$ be the solution set of a quadratic inequality, \n",
    " \n",
    "$$ C = \\{ x \\in R^n | x^TAx + b^Tx + c \\leq 0\\}$$\n",
    " \n",
    "with $A\\in S^n, b\\in R^n$, and $c \\in R$.\n",
    "\n",
    "**(a)** Show that $C$ is convex if $A \\succeq 0$\n",
    "\n",
    "**(b)** Show that the intersection of C and the hyperplane defined by $g^Tx+ h = 0$ (where $g \\neq 0$) is convex if $A + \\lambda gg^T \\succeq 0$ for some $\\lambda \\in R$ \n",
    "\n",
    "Are the converses of these statements true?"
   ]
  },
  {
   "cell_type": "markdown",
   "id": "6077d9c6",
   "metadata": {},
   "source": [
    "### Demostración\n",
    "\n",
    "Lema: Un conjunto es convexo si y solo si su intersección con cualquier recta es convexa. \n",
    "\n",
    "**(a)** Para demostrar esto tomemos una recta de la forma $\\{x+tv | t \\in R\\}$ y remplacemos en la ecuación:\n",
    "\n",
    "$$(x+tv)^T A (x+tv) + b^T(x+tv)+ c$$\n",
    "\n",
    "Desarrollando tenemos: \n",
    "$$\\begin{align} (x+tv)^T A (x+tv) + b^T(x+tv)+ c &= (x^T + v^Tt)A(x+tv) + b^T(x+tv)+ c\\\\\n",
    "&= (x^TA + v^TtA)(x+tv) + b^T(x+tv)+ c \\\\\n",
    "& = (x^TAx + v^TtAx + x^TAtv + v^TtAtv) +  b^Tx +  b^Ttv + c\n",
    "\\end{align}$$\n",
    "\n",
    "Reorganizando y factorizando $t$ tenemos: \n",
    "\n",
    "$$ (v^TAv)t^2 + (2x^TAv + b^Tv)t + (x^TAx + b^Tx+ c)$$\n",
    "\n",
    "entonces sean:\n",
    "\n",
    "$a = (v^TAv)$\n",
    "\n",
    "$b = (2x^TAv + b^Tv)$\n",
    "\n",
    "$\\theta = (x^TAx + b^Tx+ c)$\n",
    "\n",
    "Entonces podemos reescribir nuestra ecuación como: \n",
    "\n",
    "$at^2 + bt + \\theta$\n",
    "\n",
    "Entonces podemos escribir la intersección de la recta con $C$ como:\n",
    "\n",
    "$$\\{x +tv|at^2 + bt + \\theta \\leq 0 \\}$$\n",
    "\n",
    "Note que este conjunto es convexo, pues $(v^TAv) \\geq 0$ para todo vector $v$. Luego C es convexo por el lema anterior.\n",
    "\n",
    "Note que la reciproca no es verdadera\n",
    "\n",
    "**(b)** Sea H el hiperplano definido por $H=\\{x| g^Tx + h= 0 \\}$ y tomemos $a ,b, \\theta$ del ejercicio anterior. Además definamos $\\delta = g^Tv$ y $\\epsilon = g^T x'+h$. En este caso podemos asumir que $x'\\in H$, lo que implica que $\\epsilon = 0$ por definición de H. Ahora tomando $C \\cap H$ con la recta definida por $x'$ y $v$ es\n",
    "\n",
    "$$\\{x'+tv| a t^2 + b t + \\theta \\leq 0\\}$$\n",
    "\n",
    "Como este conjunto es convexo si $a \\geq 0$, entonces  $C \\cap H$ es convexa si $g^Tv = 0$ implica que $v^TAv \\geq 0$, note que esto es verda si existe un $\\alpha$ tal que $A + \\alpha g g^T \\succeq 0$, además el punto (a) se mantiene pues \n",
    "$$v^TAv = v^T(A + \\alpha g g^T)v \\geq 0 $$\n",
    "para todos los $v$ que satisfacen $g^Tv=0$\n",
    "\n",
    "Note que la reciproca no es verdadera\n"
   ]
  },
  {
   "cell_type": "markdown",
   "id": "6f5cdfed",
   "metadata": {},
   "source": [
    "### 2.13\n",
    "\n",
    "*Conic hull of outer products*. Consider the set of rank-k *outer products*, defined as $A = \\{ XX^T | X \\in R^{n x k}, \\text{ rank} (X) = k\\}$. Describe its conic hull in simple terms."
   ]
  },
  {
   "cell_type": "markdown",
   "id": "518deeff",
   "metadata": {},
   "source": [
    "### Demostración\n",
    "Tenemos que $XX^T \\succeq 0$ y que $rank(XX^T) = rank(X) = k$, note que como $k$ es el rango, $X \\in R^{n \\times k}$ con $n \\geq k$. Para construir el Conic Hull de este conjunto vamos a tomar dos matrices $A,B \\in R^{n \\times k}$ con rango k y vamos a demostrar que $rank(A + B) \\geq k$. Sea $v \\in N(A+B)$ entonces tenemos que: \n",
    "\n",
    "$$(A+B)v = 0 \\Leftrightarrow v^T(A+B)v = 0 \\Leftrightarrow v^T A v + v^T B v = 0$$\n",
    "\n",
    "Esto implica que\n",
    "\n",
    "$$ v^T A v = 0 \\Leftrightarrow Av = 0$$\n",
    "$$ v^T B v = 0 \\Leftrightarrow Bv = 0$$\n",
    "\n",
    "Esto nos muestra que cualquier vector $v \\in N(A+B)$ debe ser de dimensión no mayor la dimensión de $N(A)$ o de $N(B)$. Entonces usando el teorema de rango-nulidad tenemos que $rank(A + B) \\geq k$, de esto podemos ver que el Conic hull de nuestro conjunto es el conjunto de matrices semidefinidas positivas de rango igual o mayor que $k$ y la matriz $0$ "
   ]
  },
  {
   "cell_type": "markdown",
   "id": "0b79383c",
   "metadata": {},
   "source": [
    "### 2.14\n",
    "\n",
    "*Expanded and restricted sets.* Let $S \\subseteq R^n$, and let $||\\cdot||$ be a norm on $R^n$\n",
    "\n",
    "**(a)** For $a \\geq 0$ we define $S_a$ as $\\{x| \\text{ dist}(x,S) \\leq a\\}$, where dist$(x,S) = inf_{y\\in S}||x-y||$. We refer to $S_a$ as $S$ *expanded or extended* by a. Show that if $S$ is convex, then $S_a$ is convex.\n",
    "\n",
    "**(b)** For $a \\geq 0$ we define $S_{-a} = \\{x | B(x,a) \\subseteq S\\}$, where $B(x,a)$ is the ball (in the norm $||\\cdot||$), centered at x, with radius a. We refer to $S_{-a}$ as $S$ *shrunk or restricted* by a, since $S_{-a}$ consists of all points that are at least a distance $a$ from $R^n \\backslash S$. Show that if $S$ is convex, then $S_{-a}$ is convex."
   ]
  },
  {
   "cell_type": "markdown",
   "id": "cc0ad9f4",
   "metadata": {},
   "source": [
    "### Demostración\n",
    "\n",
    "(a) Sean $x_1, x_2 \\in S_a$. Con $0 \\leq \\theta \\leq 1$, queremos probar que $\\theta x_1 + (1-\\theta)x_2 \\in S_a$: \n",
    "\n",
    "\n",
    "$$ \\begin{align*} \n",
    "dist(\\theta x_1 + (1-\\theta)x_2 \\in S_a) &= inf_{y \\in S} ||\\theta x_1 + (1-\\theta)x_2 - y|| \\\\\n",
    "&= inf_{y \\in S} ||\\theta x_1 + (1-\\theta)x_2 - y + y \\theta - y \\theta ||\\\\\n",
    "&= inf_{y \\in S} ||\\theta (x_1 - y) + (1-\\theta)x_2 - y (1- \\theta)||\\\\\n",
    "&= inf_{y \\in S} ||\\theta (x_1 - y) + (1-\\theta)(x_2 - y)||\\\\\n",
    "&\\leq inf_{y \\in S} ||\\theta (x_1 - y)|| + inf_{y \\in S} ||(1-\\theta)(x_2 - y)||\\\\\n",
    "&\\leq \\theta a + (1 - \\theta)a = a( \\theta + 1 - \\theta) = a\n",
    "\\end{align*}$$\n",
    "\n",
    "Con esto queda demostrado que $\\theta x_1 + (1-\\theta)x_2 \\in S_a$\n",
    "\n",
    "(b) Sean $x_1 , x_2 \\in S_{-a}$ y tomemos $||x_3|| \\leq a$, entonces tenemos que:\n",
    "$$x_1 + x_3 \\in S$$\n",
    "$$x_2 + x_3 \\in S$$\n",
    "\n",
    "Ahora tomemos $\\theta(x_1 + x_3) + (1-\\theta)(x_2+x_3)$, como $S$ es convexo tenemos que: \n",
    "$$\\theta(x_1 + x_3) + (1-\\theta)(x_2+x_3) \\in S$$\n",
    "$$\\theta x_1 + (1-\\theta) x_2 + x_3 \\in S $$\n",
    "\n",
    "De lo anterior podemos concluir que: \n",
    "$$\\theta x_1 + (1-\\theta) x_2 \\in S_{-a}$$\n",
    "\n",
    "\n",
    "\n"
   ]
  },
  {
   "cell_type": "markdown",
   "id": "dbd3af9e",
   "metadata": {},
   "source": [
    "### 2.15\n",
    "\n",
    "*Some sets of probability distributions.* Let $x$ be a real-valued random variable with **prob**$(x=a_i) = p_i, i = 1,...,n$, where $a_1 < a_2 < ... < a_n$. Of course $p \\in R^n$ lies in the standard probability simplex $P = \\{p | 1^Tp = 1 , p \\succeq 0 \\}$. Which of the following conditions are convex in p? (That is, for which of the following conditions is the set of $p \\in P$ that satisfy the condition convex?)\n",
    "\n",
    "**(a)** $\\alpha \\leq \\textbf{E}f(x) \\leq \\beta$ where **E**$f(x)$ is the expected value of $f(x)$ *i.e.* **E**$f(x) = \\sum_{i=1}^n p_if(a_i).$ (The function $f: R \\rightarrow R$ is given).\n",
    "\n",
    "**(b)** **prob**$(x > \\alpha) \\leq \\beta$.\n",
    "\n",
    "**(c)** **E**$|x^3| \\leq \\alpha$ **E** $|x|$.\n",
    "\n",
    "**(d)** **E**$x^2 \\leq \\alpha$.\n",
    "\n",
    "**(e)** **E**$x^2 \\geq \\alpha$.\n",
    "\n",
    "**(f)** **var**$(x) \\leq \\alpha$, where **var**$(x) =$ **E**$(x - \\textbf{E}x)^2$ is the variance of x.\n",
    "\n",
    "**(g)** **var**$(x) \\geq \\alpha$ \n",
    "\n",
    "**(h)** **quartile**$(x) \\geq \\alpha$, where **quartile**$(x) = inf\\{ \\beta | prob(x\\leq \\beta) \\geq 0.25\\}$\n",
    "\n",
    "**(i)** **quartile**$(x) \\leq \\alpha$"
   ]
  },
  {
   "cell_type": "markdown",
   "id": "e4f29dd9",
   "metadata": {},
   "source": [
    "### Demostración\n",
    "\n",
    "**(a)** E$f(x) = \\sum_{i=1}^n p_if(a_i)$\n",
    "Definimos $A = \\{p \\in P | \\alpha \\leq E_p f(x) \\leq \\beta \\}$ donde $E_p$ es el valor esperado para p, Sea $x,y \\in A$. Ahora tomemos $0 \\leq \\theta \\leq 1$. Tenemos que: \n",
    "\n",
    "$$x = \\sum_{i=1}^n x_i f(a_i), y = \\sum_{i=1}^n y_i f(a_i)$$\n",
    "\n",
    "Veamos que $\\theta x + (1-\\theta) y \\in A$:\n",
    "\n",
    "$$\\theta x + (1-\\theta) y = \\theta \\sum_{i=1}^n x_i f(a_i) +  (1-\\theta)\\sum_{i=1}^n y_i f(a_i)$$\n",
    "\n",
    "Entonces veamos que:\n",
    "$$\\theta \\alpha + (1-\\theta) \\alpha \\leq \\theta \\sum_{i=1}^n x_i f(a_i) +  (1-\\theta)\\sum_{i=1}^n y_i f(a_i) \\leq \\theta \\beta + (1-\\theta) \\beta$$\n",
    "\n",
    "$$\\alpha \\leq \\theta \\sum_{i=1}^n x_i f(a_i) +  (1-\\theta)\\sum_{i=1}^n y_i f(a_i) \\leq \\beta$$ \n",
    "\n",
    "Así tenemos: \n",
    "$$\\sum_{i=1}^n x_i f(a_i) +  (1-\\theta)\\sum_{i=1}^n y_i f(a_i) \\in A$$\n",
    "\n",
    "Así $\\theta x + (1-\\theta) y \\in A$\n",
    "\n",
    "**(b)** **prob**$(x > \\alpha) \\leq \\beta$\n",
    "Definamos $A = \\{p \\in P | prob(x > \\alpha) \\leq \\beta \\}$ y tomemos $x,y \\in A$, tenemos que:\n",
    "\n",
    "$$x = \\sum_{a_i > a} x_i, y = \\sum_{a_i > a} y_i $$\n",
    "\n",
    "Entonces probemos que $\\theta x + (1-\\theta) y \\in A$:\n",
    "\n",
    "$$\\theta \\sum_{a_i > a}  + (1-\\theta) \\sum_{a_i > a} y_i \\leq \\theta \\beta  + (1-\\theta) \\beta$$\n",
    "\n",
    "Entonces tenemos que: \n",
    "\n",
    "$$\\theta \\sum_{a_i > a}  + (1-\\theta) \\sum_{a_i > a} y_i \\in A $$\n",
    "\n",
    "Así $\\theta x + (1-\\theta) y \\in A$\n",
    "\n",
    "**(C)** **E**$|x^3| \\leq \\alpha$ **E** $|x|$ \n",
    "Definamos $A = \\{p \\in P |  E_p |x^3| \\leq \\alpha E_p |x| \\}$ donde $E_p$ es el valor esperado para p y tomemos $x,y \\in A$, tenemos que: \n",
    "\n",
    "$$x = \\sum x_i|a_i^3| \\leq \\alpha \\sum x_i|a_i|, y = \\sum y_i|a_i^3| \\leq \\alpha \\sum y_i|a_i|$$\n",
    "\n",
    "ahora veamos que $\\theta x + (1-\\theta) y \\in A$:\n",
    "\n",
    "$$\\theta \\sum_{i=1}^n x_i|a_i^3|  + (1-\\theta) \\sum_{i=1}^n y_i|a_i^3| \\leq \\alpha \\sum_{i=1}^n x_i|a_i| + \\alpha \\sum_{i=1}^n y_i|a_i|$$\n",
    "\n",
    "$$\\theta \\sum_{i=1}^n x_i|a_i^3|  + (1-\\theta) \\sum_{i=1}^n y_i|a_i^3| \\leq \\alpha ( \\sum_{i=1}^n x_i|a_i| + \\sum_{i=1}^n y_i|a_i|)$$\n",
    "\n",
    "$$\\theta \\sum_{i=1}^n x_i|a_i^3|  + (1-\\theta) \\sum_{i=1}^n y_i|a_i^3| \\leq \\alpha (\\sum_{i=1}^n (x_i + y_i)|a_i|)$$\n",
    "\n",
    "Así $\\theta x + (1-\\theta) y \\in A$\n",
    "\n",
    "**(d)** **E**$x^2 \\leq \\alpha$.\n",
    "Definamos $A = \\{p \\in P | E_p x^2 \\leq \\alpha \\}$ donde $E_p$ es el valor esperado para p y tomemos $x,y \\in A$, tenemos que: \n",
    "\n",
    "$$x = \\sum x_i a_i^2 \\leq \\alpha, y = \\sum y_i a_i^2 \\leq \\alpha$$\n",
    "\n",
    "ahora veamos que $\\theta x + (1-\\theta) y \\in A$:\n",
    "\n",
    "$$\\theta \\sum_{i=1}^n x_i a_i^2  + (1-\\theta) \\sum_{i=1}^n y_i a_i^2 \\leq \\theta \\alpha + (1-\\theta)\\alpha$$\n",
    "\n",
    "$$\\theta \\sum_{i=1}^n x_i a_i^2  + (1-\\theta) \\sum_{i=1}^n y_i a_i^2  \\leq \\alpha$$\n",
    "\n",
    "Así $\\theta x + (1-\\theta) y \\in A$\n",
    "\n",
    "**(e)** **E**$x^2 \\geq \\alpha$.\n",
    "Definamos $A = \\{p \\in P | E_p x^2 \\geq \\alpha \\}$ donde $E_p$ es el valor esperado para p y tomemos $x,y \\in A$, tenemos que: \n",
    "\n",
    "$$x = \\sum x_i a_i^2 \\geq \\alpha, y = \\sum y_i a_i^2 \\geq \\alpha$$\n",
    "\n",
    "ahora veamos que $\\theta x + (1-\\theta) y \\in A$:\n",
    "\n",
    "$$\\theta \\sum_{i=1}^n x_i a_i^2  + (1-\\theta) \\sum_{i=1}^n y_i a_i^2 \\geq \\theta \\alpha + (1-\\theta)\\alpha$$\n",
    "\n",
    "$$\\theta \\sum_{i=1}^n x_i a_i^2  + (1-\\theta) \\sum_{i=1}^n y_i a_i^2  \\geq \\alpha$$\n",
    "\n",
    "Así $\\theta x + (1-\\theta) y \\in A$\n",
    "\n",
    "**(f)** **var**$(x) \\leq \\alpha$, where **var**$(x) =$ **E**$(x - \\textbf{E}x)^2$ is the variance of x.\n",
    "\n",
    "En este caso podemos ver $var(x) = Ex^2-(Ex)^2 = \\sum_{i=1}^n p_ia_i^2- (\\sum_{i=1}^n p_ia_i)^2 \\leq \\alpha$\n",
    "\n",
    "Tome $n = 2$, $a_1 = 2$ y $\\alpha = \\frac{1}{5}$. $p=(1,0)$ y $p=(0,1)$ cumplen esta desigualdad, pero la combinación convexa $p=(\\frac{1}{2}, \\frac{1}{2})$ no está contenida en el conjunto. \n",
    "\n",
    "**(g)** **var**$(x) \\geq \\alpha$\n",
    "\n",
    "En este caso podemos ver que $var(x) = Ex^2-(Ex)^2 = \\sum_{i=1}^n p_ia_i^2- (\\sum_{i=1}^n p_ia_i)^2 \\geq \\alpha$\n",
    "\n",
    "haciendo un procedimiento de manera analoga al resto de ejercicios, podemos ver que la varianza es equivalente a \n",
    "\n",
    "$\\sum_{i=1}^n p_ia_i^2- (\\sum_{i=1}^n p_ia_i)^2 = b^Tp+p^TAp \\leq \\alpha$\n",
    "\n",
    "\n",
    "**(h)** **quartile**$(x) \\geq \\alpha$\n",
    "\n",
    "$f(p) \\geq \\alpha$ se puede ver como $prob(x \\leq \\beta) \\leq 0.25$ para todo $\\alpha < \\beta$. Para definir esta desigualdad tome $a_k \\geq \\alpha$. Como $a_k$ es un entero fijo independiente de $p$, la restricción $f(p) \\geq \\alpha$ se mantiene si $$prob(x \\leq a_k) = \\sum_{i=1}^n p_i < 0.25 $$\n",
    "\n",
    "\n",
    "**(i)** **quartile**$(x) \\leq \\alpha$\n",
    "\n",
    "$f(p) \\leq \\alpha$ se puede ver como $prob(x \\leq \\beta) \\geq 0.25$ para todo $\\alpha \\leq \\beta$. Para definir esta desigualdad tome $a_k \\leq \\alpha$. Como $a_k$ es un entero fijo independiente de $p$, la restricción $f(p) \\leq \\alpha$ se mantiene si $$prob(x \\leq a_k) = \\sum_{i=1+k}^n p_i \\geq 0.25 $$"
   ]
  },
  {
   "cell_type": "markdown",
   "id": "afa26216",
   "metadata": {},
   "source": [
    "### 2.16\n",
    "\n",
    "Show that if $S_1$ and $S_2$ are convex sets in $R^{mxn}$, then so is their partial sum\n",
    "\n",
    "$$ S = \\{ (x, y_1+y_2) | x \\in R^m, y_1, y_2 \\in R^n, (x,y_1) \\in S_1, (x,y_2) \\in S_2\\}$$"
   ]
  },
  {
   "cell_type": "markdown",
   "id": "d6b1d246",
   "metadata": {},
   "source": [
    "### Demostración\n",
    "\n",
    "Sean $p_1, p_2 \\in S$, entonces estos puntos son de la forma $p_1 = (x_1, y_{1_1} + y_{2_1})$ y $ p_2 = (x_2, y_{1_2} + y_{2_2})$ con las siguientes condiciones: \n",
    "\n",
    "$$ \\begin{align}\n",
    "(x_1 , y_{1_1}) \\in S_1, (x_1 , y_{1_2}) \\in S_2 \\\\\n",
    "(x_2, y_{2_1}) \\in S_1, (x_2, y_{2_2}) \\in S_2 \n",
    "\\end{align} $$\n",
    "\n",
    "Tomemos $0 \\leq \\theta \\leq 1$. Ahora veamos si S es convexo:\n",
    "\n",
    "$$\\theta(x_1, y_{1_1} + y_{2_1}) + (1- \\theta)(x_2, y_{1_2} + y_{2_2})$$\n",
    "\n",
    "$$ \\theta x_1 + (1- \\theta) x_2, ( \\theta y_{1_1} + (1- \\theta) y_{1_2}) +  ( \\theta y_{2_1} + (1- \\theta) y_{2_2})$$\n",
    "\n",
    "Tenemos que $S_1$ y $S_2$ son convexos, luego tenemos lo siguiente: \n",
    "\n",
    "$$(x_1 + (1-\\theta)x_2), (y_{1_1} + (1-\\theta)y_{2_1}) \\in S_1$$\n",
    "$$(x_1 + (1-\\theta)x_2), (y_{1_2} + (1-\\theta)y_{2_2}) \\in S_1$$\n",
    "\n",
    "Por lo anterior tenemos que S es convexo. "
   ]
  },
  {
   "cell_type": "markdown",
   "id": "633dcad1",
   "metadata": {},
   "source": [
    "### 2.17 \n",
    "\n",
    "*Image of polyhedral sets under perspective function*. In this problem we study the image of hyperplanes, halfspaces and polyhedra under the perspective function $P(x,t) = x/t$, with **dom**$P = R^n x R_{++}$. For each of the following sets $C$, give a simple description of\n",
    "\n",
    "$$P(C) = \\{v/t | (v,t) \\in C, t > 0\\}$$\n",
    "\n",
    "**(a)** The polyhedron $C = \\textbf{conv}\\{(v_1,t_1),....,(v_K,t_K)\\}$ where $v_i \\in R^n$ and $t_i > 0$.\n",
    "\n",
    "**(b)** The hyperplane $C = \\{(v,t) | f^Tv + gt = h\\}$ (with $f$ and $g$ not both zero).\n",
    "\n",
    "**(c)** The halfspace $C = \\{(v,t) | f^Tv+ gt \\leq h\\}$ (with $f$ and $g$ not both zero).\n",
    "\n",
    "**(d)** The polyhedron $C = \\{(v,t) | Fv + gt \\preceq h\\}$"
   ]
  },
  {
   "cell_type": "markdown",
   "id": "b0604d2a",
   "metadata": {},
   "source": [
    "### Demostración\n",
    "\n",
    "(a) En este caso como $t_i > 0$ podemos definir $P(C)$ como:\n",
    "$$P(C) = \\text{conv} \\{ \\frac{v_1}{t_1},...,\\frac{v_k}{t_k}\\}$$\n",
    "\n",
    "(b) En este caso $C$ es un hiperplano, por lo que podemos definir $P(C)$ como:\n",
    "\n",
    "\n",
    "$$P(C) = \\{z| f^Tz + g = \\frac{h}{t} \\text{ para algún} t>0\\} \\\\\n",
    "= \\left\\{\n",
    "\\begin{array}{c l}\n",
    "\\{z| f^Tz + g = 0\\}, h = 0 \\\\\n",
    "\\{z| f^Tz + g > 0\\}, h > 0 \\\\\n",
    "\\{z| f^Tz + g < 0\\}, h < 0 \n",
    "\\end{array}\n",
    "\\right.\n",
    "$$\n",
    "\n",
    "\n",
    "**(c)** En este caso $C$ es un semiespacio por lo que podemos definir $P(C)$ como:\n",
    "\n",
    "$$P(C) = \\{z| f^Tz + g = \\frac{h}{t} \\text{ para algún} t>0\\} \\\\\n",
    "= \\left\\{\n",
    "\\begin{array}{c l}\n",
    "\\{z| f^Tz + g \\leq 0\\}, h = 0 \\\\\n",
    "R^n, h > 0 \\\\\n",
    "\\{z| f^Tz + g < 0\\}, h < 0 \n",
    "\\end{array}\n",
    "\\right.\n",
    "$$\n",
    "\n",
    "**(d)**  En este caso $C$ es un polihedro por lo que podemos definir $P(C) = \\{z| f^Tz + g \\preceq \\frac{1}{t}h \\text{ para algún} t>0\\}$, esto es equivalente a que si $a \\in P(C)$ se tiene tiene una de las siguientes condiciones:\n",
    "\n",
    "\n",
    "* $f_i^Ta + g_i \\leq 0, h_i = 0$\n",
    "* $f_i^Ta + g_i < 0, h_i < 0$\n",
    "* $(f_i^Ta + g_i)/h_i \\leq (f_k^Ta + g_k)/h_k, h_i > 0, h_k < 0$\n",
    "\n"
   ]
  },
  {
   "cell_type": "markdown",
   "id": "d9ae5d55",
   "metadata": {},
   "source": [
    "### 2.18\n",
    "\n",
    "*Invertible linear-fractional functions.* Let $f: R^n \\rightarrow R^n$ be the linear-fractional function \n",
    "\n",
    "$$f(x) = (Ax+b)/(c^Tx+d) \\qquad \\textbf{dom}f=\\{x | c^Tx+d > 0\\}$$\n",
    "\n",
    "Suppose the matrix \n",
    "\n",
    "$$ Q = \\begin{bmatrix} A & b \\\\ C^T & d  \\end{bmatrix}$$\n",
    "\n",
    "is nonsingular. Show that $f$ is invertible and that $f^{-1}$ is a linear-fractional mapping. Give an explicit expression for $f^{-1}$ and its domain in terms of $A,b,c$ and $d$. *Hint*. It may be easier to express $f^{-1}$ in terms of $Q$"
   ]
  },
  {
   "cell_type": "markdown",
   "id": "32f727d1",
   "metadata": {},
   "source": [
    "### Demostración\n",
    "\n",
    "Utilizando el remark 2.2 del libro basta con tomar $P(z) = \\{t(z,1) | t>0\\}$ y  $Q^{-1}$, en este caso como $Q$ es no singular $Q^{-1}$ existe, por lo que la inversa de $f$ es:\n",
    "\n",
    "$$f^{-1} = P^{-1} (Q^{-1}P(x)) $$"
   ]
  },
  {
   "cell_type": "markdown",
   "id": "a4607adb",
   "metadata": {},
   "source": [
    "## Punto 2"
   ]
  },
  {
   "cell_type": "code",
   "execution_count": null,
   "id": "9e013324",
   "metadata": {},
   "outputs": [],
   "source": [
    "#Importamos las librerias necesarias. \n",
    "using Pkg\n",
    "Pkg.add(\"LazySets\")\n",
    "Pkg.add(\"IJulia\")\n",
    "Pkg.add(\"WebIO\")"
   ]
  },
  {
   "cell_type": "code",
   "execution_count": 1,
   "id": "2442ff79",
   "metadata": {},
   "outputs": [
    {
     "data": {
      "application/vnd.webio.node+json": {
       "children": [],
       "instanceArgs": {
        "namespace": "html",
        "tag": "div"
       },
       "nodeType": "DOM",
       "props": {},
       "type": "node"
      },
      "text/html": [
       "<div style=\"padding: 1em; background-color: #f8d6da; border: 1px solid #f5c6cb; font-weight: bold;\">\n",
       "<p>The WebIO Jupyter extension was not detected. See the\n",
       "<a href=\"https://juliagizmos.github.io/WebIO.jl/latest/providers/ijulia/\" target=\"_blank\">\n",
       "    WebIO Jupyter integration documentation\n",
       "</a>\n",
       "for more information.\n",
       "</div>\n"
      ],
      "text/plain": [
       "WebIO._IJuliaInit()"
      ]
     },
     "metadata": {
      "application/vnd.webio.node+json": {
       "kernelId": "ee50c9e6-24b4-46b5-b06a-66ca9c4117e9"
      }
     },
     "output_type": "display_data"
    }
   ],
   "source": [
    "using LazySets\n",
    "using DataFrames\n",
    "using PlotlyJS, Polyhedra"
   ]
  },
  {
   "cell_type": "code",
   "execution_count": 2,
   "id": "b0af41aa",
   "metadata": {},
   "outputs": [
    {
     "data": {
      "text/plain": [
       "FinalConicHullaprx (generic function with 1 method)"
      ]
     },
     "execution_count": 2,
     "metadata": {},
     "output_type": "execute_result"
    }
   ],
   "source": [
    "function meanNormCalc(mtx,m,n)\n",
    "    mean = 1/m*[sum(mtx[:,i]) for i = 1:n]\n",
    "    return [mean,transpose(mean)*mean]\n",
    "end \n",
    "\n",
    "function ConicHullpoints(mtx)\n",
    "    m,n = size(mtx)\n",
    "    mean,meanNorm =  meanNormCalc(mtx,m,n)\n",
    "    Hull = []\n",
    "    scalars = zeros(m)\n",
    "    \n",
    "    for i = 1:m\n",
    "        disc=transpose(mean)*mtx[i,:]\n",
    "        if (disc==0)\n",
    "            append!(Hull,i)\n",
    "            continue\n",
    "        elseif (disc<0)\n",
    "            return \"es R^n\"\n",
    "        end\n",
    "        scalars[i] = meanNorm/disc \n",
    "    end \n",
    "    pointsPlane = zeros(m,n)\n",
    "    for i = 1:m\n",
    "        pointsPlane[i,:]=scalars[i].*mtx[i,:]\n",
    "    end \n",
    "    return pointsPlane\n",
    "end \n",
    "\n",
    "function grapher(vectors, point_hull, dim)\n",
    "\n",
    "    if dim==3\n",
    "    df = DataFrame([vectors;0 0 0],:auto)\n",
    "    list_plots=[scatter3d(df,x=:x1, y=:x2, z=:x3, mode=\"markers\")]\n",
    "    for vector in point_hull\n",
    "        vc=[vector,[0,0,0]]\n",
    "        df2 = DataFrame(DataFrame(reduce(hcat, vc)',:auto))\n",
    "\n",
    "        push!(list_plots,scatter3d(df2, x=:x1, y=:x2, z=:x3, mode=\"lines\"))\n",
    "    end\n",
    "    plot(list_plots)\n",
    "\n",
    "    elseif dim==2\n",
    "        df = DataFrame(vectors,:auto)\n",
    "\n",
    "        list_plots=[scatter(df, x=:x1, y=:x2, mode=\"markers\")]\n",
    "        for vector in point_hull\n",
    "\n",
    "            #vc=[vector,[0,0]]\n",
    "            #df2 = DataFrame(reduce(hcat, vc)',:auto)\n",
    "            vc=[vector,[0,0]]\n",
    "\n",
    "            df2 = DataFrame(reduce(hcat, vc)',:auto)\n",
    "            push!(list_plots,scatter(df2, x=:x1, y=:x2, mode=\"lines\"))\n",
    "        end\n",
    "        plot(list_plots) \n",
    "    end\n",
    "end\n",
    "    \n",
    "    \n",
    "function FinalConicHullaprx(mtx)\n",
    "    m,n = size(mtx)\n",
    "    points = ConicHullpoints(mtx)\n",
    "    if points != \"es R^n\"\n",
    "\n",
    "        pol_points = [points[x,:] for x=1:size(points)[1]]\n",
    "        P = VPolygon(pol_points).vertices\n",
    "        grapher(mtx,P,n)   \n",
    "    else \n",
    "        println(\"es R^n\")\n",
    "        return 0\n",
    "    end    \n",
    "end "
   ]
  },
  {
   "cell_type": "code",
   "execution_count": 3,
   "id": "8298c1cc",
   "metadata": {},
   "outputs": [
    {
     "data": {
      "application/vnd.plotly.v1+json": {
       "config": {
        "editable": false,
        "responsive": true,
        "scrollZoom": true,
        "showLink": false,
        "staticPlot": false
       },
       "data": [
        {
         "mode": "markers",
         "type": "scatter",
         "x": [
          -10,
          0,
          3,
          -1,
          -8,
          -5,
          9,
          0,
          -9,
          -3
         ],
         "y": [
          0,
          0,
          3,
          8,
          6,
          7,
          8,
          8,
          0,
          6
         ]
        },
        {
         "mode": "lines",
         "type": "scatter",
         "x": [
          -11.216666666666669,
          0
         ],
         "y": [
          0,
          0
         ]
        },
        {
         "mode": "lines",
         "type": "scatter",
         "x": [
          0,
          0
         ],
         "y": [
          0,
          0
         ]
        },
        {
         "mode": "lines",
         "type": "scatter",
         "x": [
          15.939473684210526,
          0
         ],
         "y": [
          14.16842105263158,
          0
         ]
        },
        {
         "mode": "lines",
         "type": "scatter",
         "x": [
          12.23636363636364,
          0
         ],
         "y": [
          12.23636363636364,
          0
         ]
        }
       ],
       "frames": [],
       "layout": {
        "margin": {
         "b": 50,
         "l": 50,
         "r": 50,
         "t": 60
        },
        "template": {
         "data": {
          "bar": [
           {
            "error_x": {
             "color": "#2a3f5f"
            },
            "error_y": {
             "color": "#2a3f5f"
            },
            "marker": {
             "line": {
              "color": "#E5ECF6",
              "width": 0.5
             }
            },
            "type": "bar"
           }
          ],
          "barpolar": [
           {
            "marker": {
             "line": {
              "color": "#E5ECF6",
              "width": 0.5
             }
            },
            "type": "barpolar"
           }
          ],
          "carpet": [
           {
            "aaxis": {
             "endlinecolor": "#2a3f5f",
             "gridcolor": "white",
             "linecolor": "white",
             "minorgridcolor": "white",
             "startlinecolor": "#2a3f5f"
            },
            "baxis": {
             "endlinecolor": "#2a3f5f",
             "gridcolor": "white",
             "linecolor": "white",
             "minorgridcolor": "white",
             "startlinecolor": "#2a3f5f"
            },
            "type": "carpet"
           }
          ],
          "choropleth": [
           {
            "colorbar": {
             "outlinewidth": 0,
             "ticks": ""
            },
            "type": "choropleth"
           }
          ],
          "contour": [
           {
            "colorbar": {
             "outlinewidth": 0,
             "ticks": ""
            },
            "colorscale": [
             [
              0,
              "#0d0887"
             ],
             [
              0.1111111111111111,
              "#46039f"
             ],
             [
              0.2222222222222222,
              "#7201a8"
             ],
             [
              0.3333333333333333,
              "#9c179e"
             ],
             [
              0.4444444444444444,
              "#bd3786"
             ],
             [
              0.5555555555555556,
              "#d8576b"
             ],
             [
              0.6666666666666666,
              "#ed7953"
             ],
             [
              0.7777777777777778,
              "#fb9f3a"
             ],
             [
              0.8888888888888888,
              "#fdca26"
             ],
             [
              1,
              "#f0f921"
             ]
            ],
            "type": "contour"
           }
          ],
          "contourcarpet": [
           {
            "colorbar": {
             "outlinewidth": 0,
             "ticks": ""
            },
            "type": "contourcarpet"
           }
          ],
          "heatmap": [
           {
            "colorbar": {
             "outlinewidth": 0,
             "ticks": ""
            },
            "colorscale": [
             [
              0,
              "#0d0887"
             ],
             [
              0.1111111111111111,
              "#46039f"
             ],
             [
              0.2222222222222222,
              "#7201a8"
             ],
             [
              0.3333333333333333,
              "#9c179e"
             ],
             [
              0.4444444444444444,
              "#bd3786"
             ],
             [
              0.5555555555555556,
              "#d8576b"
             ],
             [
              0.6666666666666666,
              "#ed7953"
             ],
             [
              0.7777777777777778,
              "#fb9f3a"
             ],
             [
              0.8888888888888888,
              "#fdca26"
             ],
             [
              1,
              "#f0f921"
             ]
            ],
            "type": "heatmap"
           }
          ],
          "heatmapgl": [
           {
            "colorbar": {
             "outlinewidth": 0,
             "ticks": ""
            },
            "colorscale": [
             [
              0,
              "#0d0887"
             ],
             [
              0.1111111111111111,
              "#46039f"
             ],
             [
              0.2222222222222222,
              "#7201a8"
             ],
             [
              0.3333333333333333,
              "#9c179e"
             ],
             [
              0.4444444444444444,
              "#bd3786"
             ],
             [
              0.5555555555555556,
              "#d8576b"
             ],
             [
              0.6666666666666666,
              "#ed7953"
             ],
             [
              0.7777777777777778,
              "#fb9f3a"
             ],
             [
              0.8888888888888888,
              "#fdca26"
             ],
             [
              1,
              "#f0f921"
             ]
            ],
            "type": "heatmapgl"
           }
          ],
          "histogram": [
           {
            "marker": {
             "colorbar": {
              "outlinewidth": 0,
              "ticks": ""
             }
            },
            "type": "histogram"
           }
          ],
          "histogram2d": [
           {
            "colorbar": {
             "outlinewidth": 0,
             "ticks": ""
            },
            "colorscale": [
             [
              0,
              "#0d0887"
             ],
             [
              0.1111111111111111,
              "#46039f"
             ],
             [
              0.2222222222222222,
              "#7201a8"
             ],
             [
              0.3333333333333333,
              "#9c179e"
             ],
             [
              0.4444444444444444,
              "#bd3786"
             ],
             [
              0.5555555555555556,
              "#d8576b"
             ],
             [
              0.6666666666666666,
              "#ed7953"
             ],
             [
              0.7777777777777778,
              "#fb9f3a"
             ],
             [
              0.8888888888888888,
              "#fdca26"
             ],
             [
              1,
              "#f0f921"
             ]
            ],
            "type": "histogram2d"
           }
          ],
          "histogram2dcontour": [
           {
            "colorbar": {
             "outlinewidth": 0,
             "ticks": ""
            },
            "colorscale": [
             [
              0,
              "#0d0887"
             ],
             [
              0.1111111111111111,
              "#46039f"
             ],
             [
              0.2222222222222222,
              "#7201a8"
             ],
             [
              0.3333333333333333,
              "#9c179e"
             ],
             [
              0.4444444444444444,
              "#bd3786"
             ],
             [
              0.5555555555555556,
              "#d8576b"
             ],
             [
              0.6666666666666666,
              "#ed7953"
             ],
             [
              0.7777777777777778,
              "#fb9f3a"
             ],
             [
              0.8888888888888888,
              "#fdca26"
             ],
             [
              1,
              "#f0f921"
             ]
            ],
            "type": "histogram2dcontour"
           }
          ],
          "mesh3d": [
           {
            "colorbar": {
             "outlinewidth": 0,
             "ticks": ""
            },
            "type": "mesh3d"
           }
          ],
          "parcoords": [
           {
            "line": {
             "colorbar": {
              "outlinewidth": 0,
              "ticks": ""
             }
            },
            "type": "parcoords"
           }
          ],
          "pie": [
           {
            "automargin": true,
            "type": "pie"
           }
          ],
          "scatter": [
           {
            "marker": {
             "colorbar": {
              "outlinewidth": 0,
              "ticks": ""
             }
            },
            "type": "scatter"
           }
          ],
          "scatter3d": [
           {
            "line": {
             "colorbar": {
              "outlinewidth": 0,
              "ticks": ""
             }
            },
            "marker": {
             "colorbar": {
              "outlinewidth": 0,
              "ticks": ""
             }
            },
            "type": "scatter3d"
           }
          ],
          "scattercarpet": [
           {
            "marker": {
             "colorbar": {
              "outlinewidth": 0,
              "ticks": ""
             }
            },
            "type": "scattercarpet"
           }
          ],
          "scattergeo": [
           {
            "marker": {
             "colorbar": {
              "outlinewidth": 0,
              "ticks": ""
             }
            },
            "type": "scattergeo"
           }
          ],
          "scattergl": [
           {
            "marker": {
             "colorbar": {
              "outlinewidth": 0,
              "ticks": ""
             }
            },
            "type": "scattergl"
           }
          ],
          "scattermapbox": [
           {
            "marker": {
             "colorbar": {
              "outlinewidth": 0,
              "ticks": ""
             }
            },
            "type": "scattermapbox"
           }
          ],
          "scatterpolar": [
           {
            "marker": {
             "colorbar": {
              "outlinewidth": 0,
              "ticks": ""
             }
            },
            "type": "scatterpolar"
           }
          ],
          "scatterpolargl": [
           {
            "marker": {
             "colorbar": {
              "outlinewidth": 0,
              "ticks": ""
             }
            },
            "type": "scatterpolargl"
           }
          ],
          "scatterternary": [
           {
            "marker": {
             "colorbar": {
              "outlinewidth": 0,
              "ticks": ""
             }
            },
            "type": "scatterternary"
           }
          ],
          "surface": [
           {
            "colorbar": {
             "outlinewidth": 0,
             "ticks": ""
            },
            "colorscale": [
             [
              0,
              "#0d0887"
             ],
             [
              0.1111111111111111,
              "#46039f"
             ],
             [
              0.2222222222222222,
              "#7201a8"
             ],
             [
              0.3333333333333333,
              "#9c179e"
             ],
             [
              0.4444444444444444,
              "#bd3786"
             ],
             [
              0.5555555555555556,
              "#d8576b"
             ],
             [
              0.6666666666666666,
              "#ed7953"
             ],
             [
              0.7777777777777778,
              "#fb9f3a"
             ],
             [
              0.8888888888888888,
              "#fdca26"
             ],
             [
              1,
              "#f0f921"
             ]
            ],
            "type": "surface"
           }
          ],
          "table": [
           {
            "cells": {
             "fill": {
              "color": "#EBF0F8"
             },
             "line": {
              "color": "white"
             }
            },
            "header": {
             "fill": {
              "color": "#C8D4E3"
             },
             "line": {
              "color": "white"
             }
            },
            "type": "table"
           }
          ]
         },
         "layout": {
          "annotationdefaults": {
           "arrowcolor": "#2a3f5f",
           "arrowhead": 0,
           "arrowwidth": 1
          },
          "autotypenumbers": "strict",
          "coloraxis": {
           "colorbar": {
            "outlinewidth": 0,
            "ticks": ""
           }
          },
          "colorscale": {
           "diverging": [
            [
             0,
             "#8e0152"
            ],
            [
             0.1,
             "#c51b7d"
            ],
            [
             0.2,
             "#de77ae"
            ],
            [
             0.3,
             "#f1b6da"
            ],
            [
             0.4,
             "#fde0ef"
            ],
            [
             0.5,
             "#f7f7f7"
            ],
            [
             0.6,
             "#e6f5d0"
            ],
            [
             0.7,
             "#b8e186"
            ],
            [
             0.8,
             "#7fbc41"
            ],
            [
             0.9,
             "#4d9221"
            ],
            [
             1,
             "#276419"
            ]
           ],
           "sequential": [
            [
             0,
             "#0d0887"
            ],
            [
             0.1111111111111111,
             "#46039f"
            ],
            [
             0.2222222222222222,
             "#7201a8"
            ],
            [
             0.3333333333333333,
             "#9c179e"
            ],
            [
             0.4444444444444444,
             "#bd3786"
            ],
            [
             0.5555555555555556,
             "#d8576b"
            ],
            [
             0.6666666666666666,
             "#ed7953"
            ],
            [
             0.7777777777777778,
             "#fb9f3a"
            ],
            [
             0.8888888888888888,
             "#fdca26"
            ],
            [
             1,
             "#f0f921"
            ]
           ],
           "sequentialminus": [
            [
             0,
             "#0d0887"
            ],
            [
             0.1111111111111111,
             "#46039f"
            ],
            [
             0.2222222222222222,
             "#7201a8"
            ],
            [
             0.3333333333333333,
             "#9c179e"
            ],
            [
             0.4444444444444444,
             "#bd3786"
            ],
            [
             0.5555555555555556,
             "#d8576b"
            ],
            [
             0.6666666666666666,
             "#ed7953"
            ],
            [
             0.7777777777777778,
             "#fb9f3a"
            ],
            [
             0.8888888888888888,
             "#fdca26"
            ],
            [
             1,
             "#f0f921"
            ]
           ]
          },
          "colorway": [
           "#636efa",
           "#EF553B",
           "#00cc96",
           "#ab63fa",
           "#FFA15A",
           "#19d3f3",
           "#FF6692",
           "#B6E880",
           "#FF97FF",
           "#FECB52"
          ],
          "font": {
           "color": "#2a3f5f"
          },
          "geo": {
           "bgcolor": "white",
           "lakecolor": "white",
           "landcolor": "#E5ECF6",
           "showlakes": true,
           "showland": true,
           "subunitcolor": "white"
          },
          "hoverlabel": {
           "align": "left"
          },
          "hovermode": "closest",
          "mapbox": {
           "style": "light"
          },
          "paper_bgcolor": "white",
          "plot_bgcolor": "#E5ECF6",
          "polar": {
           "angularaxis": {
            "gridcolor": "white",
            "linecolor": "white",
            "ticks": ""
           },
           "bgcolor": "#E5ECF6",
           "radialaxis": {
            "gridcolor": "white",
            "linecolor": "white",
            "ticks": ""
           }
          },
          "scene": {
           "xaxis": {
            "backgroundcolor": "#E5ECF6",
            "gridcolor": "white",
            "gridwidth": 2,
            "linecolor": "white",
            "showbackground": true,
            "ticks": "",
            "zerolinecolor": "white"
           },
           "yaxis": {
            "backgroundcolor": "#E5ECF6",
            "gridcolor": "white",
            "gridwidth": 2,
            "linecolor": "white",
            "showbackground": true,
            "ticks": "",
            "zerolinecolor": "white"
           },
           "zaxis": {
            "backgroundcolor": "#E5ECF6",
            "gridcolor": "white",
            "gridwidth": 2,
            "linecolor": "white",
            "showbackground": true,
            "ticks": "",
            "zerolinecolor": "white"
           }
          },
          "shapedefaults": {
           "line": {
            "color": "#2a3f5f"
           }
          },
          "ternary": {
           "aaxis": {
            "gridcolor": "white",
            "linecolor": "white",
            "ticks": ""
           },
           "baxis": {
            "gridcolor": "white",
            "linecolor": "white",
            "ticks": ""
           },
           "bgcolor": "#E5ECF6",
           "caxis": {
            "gridcolor": "white",
            "linecolor": "white",
            "ticks": ""
           }
          },
          "title": {
           "x": 0.05
          },
          "xaxis": {
           "automargin": true,
           "gridcolor": "white",
           "linecolor": "white",
           "ticks": "",
           "title": {
            "standoff": 15
           },
           "zerolinecolor": "white",
           "zerolinewidth": 2
          },
          "yaxis": {
           "automargin": true,
           "gridcolor": "white",
           "linecolor": "white",
           "ticks": "",
           "title": {
            "standoff": 15
           },
           "zerolinecolor": "white",
           "zerolinewidth": 2
          }
         }
        }
       }
      },
      "text/html": [
       "<div\n",
       "    class=\"webio-mountpoint\"\n",
       "    data-webio-mountpoint=\"17463705987845043857\"\n",
       ">\n",
       "    <script>\n",
       "    (function(){\n",
       "    // Some integrations (namely, IJulia/Jupyter) use an alternate render pathway than\n",
       "    // just putting the html on the page. If WebIO isn't defined, then it's pretty likely\n",
       "    // that we're in one of those situations and the integration just isn't installed\n",
       "    // correctly.\n",
       "    if (typeof window.WebIO === \"undefined\") {\n",
       "        document\n",
       "            .querySelector('[data-webio-mountpoint=\"17463705987845043857\"]')\n",
       "            .innerHTML = (\n",
       "                '<div style=\"padding: 1em; background-color: #f8d6da; border: 1px solid #f5c6cb; font-weight: bold;\">' +\n",
       "                '<p><strong>WebIO not detected.</strong></p>' +\n",
       "                '<p>Please read ' +\n",
       "                '<a href=\"https://juliagizmos.github.io/WebIO.jl/latest/troubleshooting/not-detected/\" target=\"_blank\">the troubleshooting guide</a> ' +\n",
       "                'for more information on how to resolve this issue.</p>' +\n",
       "                '<p><a href=\"https://juliagizmos.github.io/WebIO.jl/latest/troubleshooting/not-detected/\" target=\"_blank\">https://juliagizmos.github.io/WebIO.jl/latest/troubleshooting/not-detected/</a></p>' +\n",
       "                '</div>'\n",
       "            );\n",
       "        return;\n",
       "    }\n",
       "    WebIO.mount(\n",
       "        document.querySelector('[data-webio-mountpoint=\"17463705987845043857\"]'),\n",
       "        {\"props\":{},\"nodeType\":\"Scope\",\"type\":\"node\",\"instanceArgs\":{\"imports\":{\"data\":[{\"name\":\"Plotly\",\"type\":\"js\",\"url\":\"\\/assetserver\\/db01643933f428e933e6fe3f9bf0c39e9fab8888-plotly.min.js\"},{\"name\":null,\"type\":\"js\",\"url\":\"\\/assetserver\\/2838d48eaeffaf0924c124c65d5596d45c0b86cd-plotly_webio.bundle.js\"}],\"type\":\"async_block\"},\"id\":\"14765501787769778044\",\"handlers\":{\"_toImage\":[\"(function (options){return this.Plotly.toImage(this.plotElem,options).then((function (data){return WebIO.setval({\\\"name\\\":\\\"image\\\",\\\"scope\\\":\\\"14765501787769778044\\\",\\\"id\\\":\\\"18024916195427588713\\\",\\\"type\\\":\\\"observable\\\"},data)}))})\"],\"__get_gd_contents\":[\"(function (prop){prop==\\\"data\\\" ? (WebIO.setval({\\\"name\\\":\\\"__gd_contents\\\",\\\"scope\\\":\\\"14765501787769778044\\\",\\\"id\\\":\\\"15481526599098944768\\\",\\\"type\\\":\\\"observable\\\"},this.plotElem.data)) : undefined; return prop==\\\"layout\\\" ? (WebIO.setval({\\\"name\\\":\\\"__gd_contents\\\",\\\"scope\\\":\\\"14765501787769778044\\\",\\\"id\\\":\\\"15481526599098944768\\\",\\\"type\\\":\\\"observable\\\"},this.plotElem.layout)) : undefined})\"],\"_downloadImage\":[\"(function (options){return this.Plotly.downloadImage(this.plotElem,options)})\"],\"_commands\":[\"(function (args){var fn=args.shift(); var elem=this.plotElem; var Plotly=this.Plotly; args.unshift(elem); return Plotly[fn].apply(this,args)})\"]},\"systemjs_options\":null,\"mount_callbacks\":[\"function () {\\n    var handler = ((function (Plotly,PlotlyWebIO){PlotlyWebIO.init(WebIO); var gd=this.dom.querySelector(\\\"#plot-8fcb75b5-51a0-421f-88fe-23620e9771b1\\\"); this.plotElem=gd; this.Plotly=Plotly; (window.Blink!==undefined) ? (gd.style.width=\\\"100%\\\", gd.style.height=\\\"100vh\\\", gd.style.marginLeft=\\\"0%\\\", gd.style.marginTop=\\\"0vh\\\") : undefined; window.onresize=(function (){return Plotly.Plots.resize(gd)}); Plotly.newPlot(gd,[{\\\"mode\\\":\\\"markers\\\",\\\"y\\\":[0,0,3,8,6,7,8,8,0,6],\\\"type\\\":\\\"scatter\\\",\\\"x\\\":[-10,0,3,-1,-8,-5,9,0,-9,-3]},{\\\"mode\\\":\\\"lines\\\",\\\"y\\\":[0.0,0.0],\\\"type\\\":\\\"scatter\\\",\\\"x\\\":[-11.216666666666669,0.0]},{\\\"mode\\\":\\\"lines\\\",\\\"y\\\":[0.0,0.0],\\\"type\\\":\\\"scatter\\\",\\\"x\\\":[0.0,0.0]},{\\\"mode\\\":\\\"lines\\\",\\\"y\\\":[14.16842105263158,0.0],\\\"type\\\":\\\"scatter\\\",\\\"x\\\":[15.939473684210526,0.0]},{\\\"mode\\\":\\\"lines\\\",\\\"y\\\":[12.23636363636364,0.0],\\\"type\\\":\\\"scatter\\\",\\\"x\\\":[12.23636363636364,0.0]}],{\\\"template\\\":{\\\"layout\\\":{\\\"coloraxis\\\":{\\\"colorbar\\\":{\\\"ticks\\\":\\\"\\\",\\\"outlinewidth\\\":0}},\\\"xaxis\\\":{\\\"gridcolor\\\":\\\"white\\\",\\\"zerolinewidth\\\":2,\\\"title\\\":{\\\"standoff\\\":15},\\\"ticks\\\":\\\"\\\",\\\"zerolinecolor\\\":\\\"white\\\",\\\"automargin\\\":true,\\\"linecolor\\\":\\\"white\\\"},\\\"hovermode\\\":\\\"closest\\\",\\\"paper_bgcolor\\\":\\\"white\\\",\\\"geo\\\":{\\\"showlakes\\\":true,\\\"showland\\\":true,\\\"landcolor\\\":\\\"#E5ECF6\\\",\\\"bgcolor\\\":\\\"white\\\",\\\"subunitcolor\\\":\\\"white\\\",\\\"lakecolor\\\":\\\"white\\\"},\\\"colorscale\\\":{\\\"sequential\\\":[[0.0,\\\"#0d0887\\\"],[0.1111111111111111,\\\"#46039f\\\"],[0.2222222222222222,\\\"#7201a8\\\"],[0.3333333333333333,\\\"#9c179e\\\"],[0.4444444444444444,\\\"#bd3786\\\"],[0.5555555555555556,\\\"#d8576b\\\"],[0.6666666666666666,\\\"#ed7953\\\"],[0.7777777777777778,\\\"#fb9f3a\\\"],[0.8888888888888888,\\\"#fdca26\\\"],[1.0,\\\"#f0f921\\\"]],\\\"diverging\\\":[[0,\\\"#8e0152\\\"],[0.1,\\\"#c51b7d\\\"],[0.2,\\\"#de77ae\\\"],[0.3,\\\"#f1b6da\\\"],[0.4,\\\"#fde0ef\\\"],[0.5,\\\"#f7f7f7\\\"],[0.6,\\\"#e6f5d0\\\"],[0.7,\\\"#b8e186\\\"],[0.8,\\\"#7fbc41\\\"],[0.9,\\\"#4d9221\\\"],[1,\\\"#276419\\\"]],\\\"sequentialminus\\\":[[0.0,\\\"#0d0887\\\"],[0.1111111111111111,\\\"#46039f\\\"],[0.2222222222222222,\\\"#7201a8\\\"],[0.3333333333333333,\\\"#9c179e\\\"],[0.4444444444444444,\\\"#bd3786\\\"],[0.5555555555555556,\\\"#d8576b\\\"],[0.6666666666666666,\\\"#ed7953\\\"],[0.7777777777777778,\\\"#fb9f3a\\\"],[0.8888888888888888,\\\"#fdca26\\\"],[1.0,\\\"#f0f921\\\"]]},\\\"yaxis\\\":{\\\"gridcolor\\\":\\\"white\\\",\\\"zerolinewidth\\\":2,\\\"title\\\":{\\\"standoff\\\":15},\\\"ticks\\\":\\\"\\\",\\\"zerolinecolor\\\":\\\"white\\\",\\\"automargin\\\":true,\\\"linecolor\\\":\\\"white\\\"},\\\"shapedefaults\\\":{\\\"line\\\":{\\\"color\\\":\\\"#2a3f5f\\\"}},\\\"hoverlabel\\\":{\\\"align\\\":\\\"left\\\"},\\\"mapbox\\\":{\\\"style\\\":\\\"light\\\"},\\\"polar\\\":{\\\"angularaxis\\\":{\\\"gridcolor\\\":\\\"white\\\",\\\"ticks\\\":\\\"\\\",\\\"linecolor\\\":\\\"white\\\"},\\\"bgcolor\\\":\\\"#E5ECF6\\\",\\\"radialaxis\\\":{\\\"gridcolor\\\":\\\"white\\\",\\\"ticks\\\":\\\"\\\",\\\"linecolor\\\":\\\"white\\\"}},\\\"autotypenumbers\\\":\\\"strict\\\",\\\"font\\\":{\\\"color\\\":\\\"#2a3f5f\\\"},\\\"ternary\\\":{\\\"baxis\\\":{\\\"gridcolor\\\":\\\"white\\\",\\\"ticks\\\":\\\"\\\",\\\"linecolor\\\":\\\"white\\\"},\\\"bgcolor\\\":\\\"#E5ECF6\\\",\\\"caxis\\\":{\\\"gridcolor\\\":\\\"white\\\",\\\"ticks\\\":\\\"\\\",\\\"linecolor\\\":\\\"white\\\"},\\\"aaxis\\\":{\\\"gridcolor\\\":\\\"white\\\",\\\"ticks\\\":\\\"\\\",\\\"linecolor\\\":\\\"white\\\"}},\\\"annotationdefaults\\\":{\\\"arrowhead\\\":0,\\\"arrowwidth\\\":1,\\\"arrowcolor\\\":\\\"#2a3f5f\\\"},\\\"plot_bgcolor\\\":\\\"#E5ECF6\\\",\\\"title\\\":{\\\"x\\\":0.05},\\\"scene\\\":{\\\"xaxis\\\":{\\\"gridcolor\\\":\\\"white\\\",\\\"gridwidth\\\":2,\\\"backgroundcolor\\\":\\\"#E5ECF6\\\",\\\"ticks\\\":\\\"\\\",\\\"showbackground\\\":true,\\\"zerolinecolor\\\":\\\"white\\\",\\\"linecolor\\\":\\\"white\\\"},\\\"zaxis\\\":{\\\"gridcolor\\\":\\\"white\\\",\\\"gridwidth\\\":2,\\\"backgroundcolor\\\":\\\"#E5ECF6\\\",\\\"ticks\\\":\\\"\\\",\\\"showbackground\\\":true,\\\"zerolinecolor\\\":\\\"white\\\",\\\"linecolor\\\":\\\"white\\\"},\\\"yaxis\\\":{\\\"gridcolor\\\":\\\"white\\\",\\\"gridwidth\\\":2,\\\"backgroundcolor\\\":\\\"#E5ECF6\\\",\\\"ticks\\\":\\\"\\\",\\\"showbackground\\\":true,\\\"zerolinecolor\\\":\\\"white\\\",\\\"linecolor\\\":\\\"white\\\"}},\\\"colorway\\\":[\\\"#636efa\\\",\\\"#EF553B\\\",\\\"#00cc96\\\",\\\"#ab63fa\\\",\\\"#FFA15A\\\",\\\"#19d3f3\\\",\\\"#FF6692\\\",\\\"#B6E880\\\",\\\"#FF97FF\\\",\\\"#FECB52\\\"]},\\\"data\\\":{\\\"barpolar\\\":[{\\\"type\\\":\\\"barpolar\\\",\\\"marker\\\":{\\\"line\\\":{\\\"color\\\":\\\"#E5ECF6\\\",\\\"width\\\":0.5}}}],\\\"carpet\\\":[{\\\"aaxis\\\":{\\\"gridcolor\\\":\\\"white\\\",\\\"endlinecolor\\\":\\\"#2a3f5f\\\",\\\"minorgridcolor\\\":\\\"white\\\",\\\"startlinecolor\\\":\\\"#2a3f5f\\\",\\\"linecolor\\\":\\\"white\\\"},\\\"type\\\":\\\"carpet\\\",\\\"baxis\\\":{\\\"gridcolor\\\":\\\"white\\\",\\\"endlinecolor\\\":\\\"#2a3f5f\\\",\\\"minorgridcolor\\\":\\\"white\\\",\\\"startlinecolor\\\":\\\"#2a3f5f\\\",\\\"linecolor\\\":\\\"white\\\"}}],\\\"scatterpolar\\\":[{\\\"type\\\":\\\"scatterpolar\\\",\\\"marker\\\":{\\\"colorbar\\\":{\\\"ticks\\\":\\\"\\\",\\\"outlinewidth\\\":0}}}],\\\"parcoords\\\":[{\\\"line\\\":{\\\"colorbar\\\":{\\\"ticks\\\":\\\"\\\",\\\"outlinewidth\\\":0}},\\\"type\\\":\\\"parcoords\\\"}],\\\"scatter\\\":[{\\\"type\\\":\\\"scatter\\\",\\\"marker\\\":{\\\"colorbar\\\":{\\\"ticks\\\":\\\"\\\",\\\"outlinewidth\\\":0}}}],\\\"histogram2dcontour\\\":[{\\\"colorbar\\\":{\\\"ticks\\\":\\\"\\\",\\\"outlinewidth\\\":0},\\\"type\\\":\\\"histogram2dcontour\\\",\\\"colorscale\\\":[[0.0,\\\"#0d0887\\\"],[0.1111111111111111,\\\"#46039f\\\"],[0.2222222222222222,\\\"#7201a8\\\"],[0.3333333333333333,\\\"#9c179e\\\"],[0.4444444444444444,\\\"#bd3786\\\"],[0.5555555555555556,\\\"#d8576b\\\"],[0.6666666666666666,\\\"#ed7953\\\"],[0.7777777777777778,\\\"#fb9f3a\\\"],[0.8888888888888888,\\\"#fdca26\\\"],[1.0,\\\"#f0f921\\\"]]}],\\\"contour\\\":[{\\\"colorbar\\\":{\\\"ticks\\\":\\\"\\\",\\\"outlinewidth\\\":0},\\\"type\\\":\\\"contour\\\",\\\"colorscale\\\":[[0.0,\\\"#0d0887\\\"],[0.1111111111111111,\\\"#46039f\\\"],[0.2222222222222222,\\\"#7201a8\\\"],[0.3333333333333333,\\\"#9c179e\\\"],[0.4444444444444444,\\\"#bd3786\\\"],[0.5555555555555556,\\\"#d8576b\\\"],[0.6666666666666666,\\\"#ed7953\\\"],[0.7777777777777778,\\\"#fb9f3a\\\"],[0.8888888888888888,\\\"#fdca26\\\"],[1.0,\\\"#f0f921\\\"]]}],\\\"scattercarpet\\\":[{\\\"type\\\":\\\"scattercarpet\\\",\\\"marker\\\":{\\\"colorbar\\\":{\\\"ticks\\\":\\\"\\\",\\\"outlinewidth\\\":0}}}],\\\"mesh3d\\\":[{\\\"colorbar\\\":{\\\"ticks\\\":\\\"\\\",\\\"outlinewidth\\\":0},\\\"type\\\":\\\"mesh3d\\\"}],\\\"surface\\\":[{\\\"colorbar\\\":{\\\"ticks\\\":\\\"\\\",\\\"outlinewidth\\\":0},\\\"type\\\":\\\"surface\\\",\\\"colorscale\\\":[[0.0,\\\"#0d0887\\\"],[0.1111111111111111,\\\"#46039f\\\"],[0.2222222222222222,\\\"#7201a8\\\"],[0.3333333333333333,\\\"#9c179e\\\"],[0.4444444444444444,\\\"#bd3786\\\"],[0.5555555555555556,\\\"#d8576b\\\"],[0.6666666666666666,\\\"#ed7953\\\"],[0.7777777777777778,\\\"#fb9f3a\\\"],[0.8888888888888888,\\\"#fdca26\\\"],[1.0,\\\"#f0f921\\\"]]}],\\\"scattermapbox\\\":[{\\\"type\\\":\\\"scattermapbox\\\",\\\"marker\\\":{\\\"colorbar\\\":{\\\"ticks\\\":\\\"\\\",\\\"outlinewidth\\\":0}}}],\\\"scattergeo\\\":[{\\\"type\\\":\\\"scattergeo\\\",\\\"marker\\\":{\\\"colorbar\\\":{\\\"ticks\\\":\\\"\\\",\\\"outlinewidth\\\":0}}}],\\\"histogram\\\":[{\\\"type\\\":\\\"histogram\\\",\\\"marker\\\":{\\\"colorbar\\\":{\\\"ticks\\\":\\\"\\\",\\\"outlinewidth\\\":0}}}],\\\"pie\\\":[{\\\"type\\\":\\\"pie\\\",\\\"automargin\\\":true}],\\\"choropleth\\\":[{\\\"colorbar\\\":{\\\"ticks\\\":\\\"\\\",\\\"outlinewidth\\\":0},\\\"type\\\":\\\"choropleth\\\"}],\\\"heatmapgl\\\":[{\\\"colorbar\\\":{\\\"ticks\\\":\\\"\\\",\\\"outlinewidth\\\":0},\\\"type\\\":\\\"heatmapgl\\\",\\\"colorscale\\\":[[0.0,\\\"#0d0887\\\"],[0.1111111111111111,\\\"#46039f\\\"],[0.2222222222222222,\\\"#7201a8\\\"],[0.3333333333333333,\\\"#9c179e\\\"],[0.4444444444444444,\\\"#bd3786\\\"],[0.5555555555555556,\\\"#d8576b\\\"],[0.6666666666666666,\\\"#ed7953\\\"],[0.7777777777777778,\\\"#fb9f3a\\\"],[0.8888888888888888,\\\"#fdca26\\\"],[1.0,\\\"#f0f921\\\"]]}],\\\"bar\\\":[{\\\"type\\\":\\\"bar\\\",\\\"error_y\\\":{\\\"color\\\":\\\"#2a3f5f\\\"},\\\"error_x\\\":{\\\"color\\\":\\\"#2a3f5f\\\"},\\\"marker\\\":{\\\"line\\\":{\\\"color\\\":\\\"#E5ECF6\\\",\\\"width\\\":0.5}}}],\\\"heatmap\\\":[{\\\"colorbar\\\":{\\\"ticks\\\":\\\"\\\",\\\"outlinewidth\\\":0},\\\"type\\\":\\\"heatmap\\\",\\\"colorscale\\\":[[0.0,\\\"#0d0887\\\"],[0.1111111111111111,\\\"#46039f\\\"],[0.2222222222222222,\\\"#7201a8\\\"],[0.3333333333333333,\\\"#9c179e\\\"],[0.4444444444444444,\\\"#bd3786\\\"],[0.5555555555555556,\\\"#d8576b\\\"],[0.6666666666666666,\\\"#ed7953\\\"],[0.7777777777777778,\\\"#fb9f3a\\\"],[0.8888888888888888,\\\"#fdca26\\\"],[1.0,\\\"#f0f921\\\"]]}],\\\"contourcarpet\\\":[{\\\"colorbar\\\":{\\\"ticks\\\":\\\"\\\",\\\"outlinewidth\\\":0},\\\"type\\\":\\\"contourcarpet\\\"}],\\\"table\\\":[{\\\"type\\\":\\\"table\\\",\\\"header\\\":{\\\"line\\\":{\\\"color\\\":\\\"white\\\"},\\\"fill\\\":{\\\"color\\\":\\\"#C8D4E3\\\"}},\\\"cells\\\":{\\\"line\\\":{\\\"color\\\":\\\"white\\\"},\\\"fill\\\":{\\\"color\\\":\\\"#EBF0F8\\\"}}}],\\\"scatter3d\\\":[{\\\"line\\\":{\\\"colorbar\\\":{\\\"ticks\\\":\\\"\\\",\\\"outlinewidth\\\":0}},\\\"type\\\":\\\"scatter3d\\\",\\\"marker\\\":{\\\"colorbar\\\":{\\\"ticks\\\":\\\"\\\",\\\"outlinewidth\\\":0}}}],\\\"scattergl\\\":[{\\\"type\\\":\\\"scattergl\\\",\\\"marker\\\":{\\\"colorbar\\\":{\\\"ticks\\\":\\\"\\\",\\\"outlinewidth\\\":0}}}],\\\"histogram2d\\\":[{\\\"colorbar\\\":{\\\"ticks\\\":\\\"\\\",\\\"outlinewidth\\\":0},\\\"type\\\":\\\"histogram2d\\\",\\\"colorscale\\\":[[0.0,\\\"#0d0887\\\"],[0.1111111111111111,\\\"#46039f\\\"],[0.2222222222222222,\\\"#7201a8\\\"],[0.3333333333333333,\\\"#9c179e\\\"],[0.4444444444444444,\\\"#bd3786\\\"],[0.5555555555555556,\\\"#d8576b\\\"],[0.6666666666666666,\\\"#ed7953\\\"],[0.7777777777777778,\\\"#fb9f3a\\\"],[0.8888888888888888,\\\"#fdca26\\\"],[1.0,\\\"#f0f921\\\"]]}],\\\"scatterternary\\\":[{\\\"type\\\":\\\"scatterternary\\\",\\\"marker\\\":{\\\"colorbar\\\":{\\\"ticks\\\":\\\"\\\",\\\"outlinewidth\\\":0}}}],\\\"scatterpolargl\\\":[{\\\"type\\\":\\\"scatterpolargl\\\",\\\"marker\\\":{\\\"colorbar\\\":{\\\"ticks\\\":\\\"\\\",\\\"outlinewidth\\\":0}}}]}},\\\"margin\\\":{\\\"l\\\":50,\\\"b\\\":50,\\\"r\\\":50,\\\"t\\\":60}},{\\\"showLink\\\":false,\\\"editable\\\":false,\\\"responsive\\\":true,\\\"staticPlot\\\":false,\\\"scrollZoom\\\":true}); gd.on(\\\"plotly_hover\\\",(function (data){var filtered_data=WebIO.PlotlyCommands.filterEventData(gd,data,\\\"hover\\\"); return !(filtered_data.isnil) ? (WebIO.setval({\\\"name\\\":\\\"hover\\\",\\\"scope\\\":\\\"14765501787769778044\\\",\\\"id\\\":\\\"3686900137208730937\\\",\\\"type\\\":\\\"observable\\\"},filtered_data.out)) : undefined})); gd.on(\\\"plotly_unhover\\\",(function (){return WebIO.setval({\\\"name\\\":\\\"hover\\\",\\\"scope\\\":\\\"14765501787769778044\\\",\\\"id\\\":\\\"3686900137208730937\\\",\\\"type\\\":\\\"observable\\\"},{})})); gd.on(\\\"plotly_selected\\\",(function (data){var filtered_data=WebIO.PlotlyCommands.filterEventData(gd,data,\\\"selected\\\"); return !(filtered_data.isnil) ? (WebIO.setval({\\\"name\\\":\\\"selected\\\",\\\"scope\\\":\\\"14765501787769778044\\\",\\\"id\\\":\\\"15302959180451213522\\\",\\\"type\\\":\\\"observable\\\"},filtered_data.out)) : undefined})); gd.on(\\\"plotly_deselect\\\",(function (){return WebIO.setval({\\\"name\\\":\\\"selected\\\",\\\"scope\\\":\\\"14765501787769778044\\\",\\\"id\\\":\\\"15302959180451213522\\\",\\\"type\\\":\\\"observable\\\"},{})})); gd.on(\\\"plotly_relayout\\\",(function (data){var filtered_data=WebIO.PlotlyCommands.filterEventData(gd,data,\\\"relayout\\\"); return !(filtered_data.isnil) ? (WebIO.setval({\\\"name\\\":\\\"relayout\\\",\\\"scope\\\":\\\"14765501787769778044\\\",\\\"id\\\":\\\"11842520561929229153\\\",\\\"type\\\":\\\"observable\\\"},filtered_data.out)) : undefined})); return gd.on(\\\"plotly_click\\\",(function (data){var filtered_data=WebIO.PlotlyCommands.filterEventData(gd,data,\\\"click\\\"); return !(filtered_data.isnil) ? (WebIO.setval({\\\"name\\\":\\\"click\\\",\\\"scope\\\":\\\"14765501787769778044\\\",\\\"id\\\":\\\"2630214357993893289\\\",\\\"type\\\":\\\"observable\\\"},filtered_data.out)) : undefined}))}));\\n    (WebIO.importBlock({\\\"data\\\":[{\\\"name\\\":\\\"Plotly\\\",\\\"type\\\":\\\"js\\\",\\\"url\\\":\\\"\\/assetserver\\/db01643933f428e933e6fe3f9bf0c39e9fab8888-plotly.min.js\\\"},{\\\"name\\\":null,\\\"type\\\":\\\"js\\\",\\\"url\\\":\\\"\\/assetserver\\/2838d48eaeffaf0924c124c65d5596d45c0b86cd-plotly_webio.bundle.js\\\"}],\\\"type\\\":\\\"async_block\\\"})).then((imports) => handler.apply(this, imports));\\n}\\n\"],\"observables\":{\"_toImage\":{\"sync\":false,\"id\":\"16371743302722634188\",\"value\":{}},\"hover\":{\"sync\":false,\"id\":\"3686900137208730937\",\"value\":{}},\"selected\":{\"sync\":false,\"id\":\"15302959180451213522\",\"value\":{}},\"__gd_contents\":{\"sync\":false,\"id\":\"15481526599098944768\",\"value\":{}},\"click\":{\"sync\":false,\"id\":\"2630214357993893289\",\"value\":{}},\"image\":{\"sync\":true,\"id\":\"18024916195427588713\",\"value\":\"\"},\"__get_gd_contents\":{\"sync\":false,\"id\":\"6408900597926440475\",\"value\":\"\"},\"_downloadImage\":{\"sync\":false,\"id\":\"13693643777226620980\",\"value\":{}},\"relayout\":{\"sync\":false,\"id\":\"11842520561929229153\",\"value\":{}},\"_commands\":{\"sync\":false,\"id\":\"2804273645821657497\",\"value\":[]}}},\"children\":[{\"props\":{\"id\":\"plot-8fcb75b5-51a0-421f-88fe-23620e9771b1\"},\"nodeType\":\"DOM\",\"type\":\"node\",\"instanceArgs\":{\"namespace\":\"html\",\"tag\":\"div\"},\"children\":[]}]},\n",
       "        window,\n",
       "    );\n",
       "    })()\n",
       "    </script>\n",
       "</div>\n"
      ],
      "text/plain": [
       "data: [\n",
       "  \"scatter with fields mode, type, x, and y\",\n",
       "  \"scatter with fields mode, type, x, and y\",\n",
       "  \"scatter with fields mode, type, x, and y\",\n",
       "  \"scatter with fields mode, type, x, and y\",\n",
       "  \"scatter with fields mode, type, x, and y\"\n",
       "]\n",
       "\n",
       "layout: \"layout with fields margin and template\"\n",
       "\n"
      ]
     },
     "execution_count": 3,
     "metadata": {},
     "output_type": "execute_result"
    }
   ],
   "source": [
    "#Pruebas\n",
    "#using IJulia,WebIO\n",
    "x = rand(-10:10,10)\n",
    "y = rand(0:10,10)\n",
    "FinalConicHullaprx([x y])"
   ]
  },
  {
   "cell_type": "code",
   "execution_count": 4,
   "id": "b76106f0",
   "metadata": {},
   "outputs": [
    {
     "name": "stdout",
     "output_type": "stream",
     "text": [
      "glp_simplex: unable to recover undefined or non-optimal solution\n",
      "glp_simplex: unable to recover undefined or non-optimal solution\n",
      "glp_simplex: unable to recover undefined or non-optimal solution\n",
      "glp_simplex: unable to recover undefined or non-optimal solution\n",
      "glp_simplex: unable to recover undefined or non-optimal solution\n",
      "glp_simplex: unable to recover undefined or non-optimal solution\n",
      "glp_simplex: unable to recover undefined or non-optimal solution\n"
     ]
    },
    {
     "name": "stderr",
     "output_type": "stream",
     "text": [
      "┌ Warning: The GLPK constants have been renamed from `GLPK.XXX` to `GLPK.GLP_XXX` in order to better match the C API. For example, `GLPK.MSG_OFF` is now `GLPK.GLP_MSG_OFF`. Support for the old constants will be removed in a future release.\n",
      "└ @ GLPK C:\\Users\\david\\.julia\\packages\\GLPK\\az2oT\\src\\MOI_wrapper\\deprecated_constants.jl:19\n"
     ]
    },
    {
     "data": {
      "application/vnd.plotly.v1+json": {
       "config": {
        "editable": false,
        "responsive": true,
        "scrollZoom": true,
        "showLink": false,
        "staticPlot": false
       },
       "data": [
        {
         "mode": "markers",
         "type": "scatter3d",
         "x": [
          2,
          8,
          -4,
          7,
          -6,
          6,
          6,
          2,
          -4,
          5,
          0
         ],
         "y": [
          8,
          7,
          4,
          4,
          6,
          9,
          5,
          6,
          8,
          10,
          0
         ],
         "z": [
          2,
          1,
          2,
          4,
          2,
          1,
          9,
          4,
          7,
          2,
          0
         ]
        },
        {
         "mode": "lines",
         "type": "scatter3d",
         "x": [
          7.2212076583210605,
          0
         ],
         "y": [
          6.318556701030928,
          0
         ],
         "z": [
          0.9026509572901326,
          0
         ]
        },
        {
         "mode": "lines",
         "type": "scatter3d",
         "x": [
          -9.885483870967743,
          0
         ],
         "y": [
          9.885483870967743,
          0
         ],
         "z": [
          4.9427419354838715,
          0
         ]
        },
        {
         "mode": "lines",
         "type": "scatter3d",
         "x": [
          7.688709677419355,
          0
         ],
         "y": [
          4.393548387096774,
          0
         ],
         "z": [
          4.393548387096774,
          0
         ]
        },
        {
         "mode": "lines",
         "type": "scatter3d",
         "x": [
          -10.879881656804736,
          0
         ],
         "y": [
          10.879881656804736,
          0
         ],
         "z": [
          3.626627218934912,
          0
         ]
        },
        {
         "mode": "lines",
         "type": "scatter3d",
         "x": [
          4.782054616384915,
          0
         ],
         "y": [
          7.173081924577374,
          0
         ],
         "z": [
          0.7970091027308193,
          0
         ]
        },
        {
         "mode": "lines",
         "type": "scatter3d",
         "x": [
          4.757309184993531,
          0
         ],
         "y": [
          3.964424320827943,
          0
         ],
         "z": [
          7.135963777490297,
          0
         ]
        },
        {
         "mode": "lines",
         "type": "scatter3d",
         "x": [
          -3.573760932944607,
          0
         ],
         "y": [
          7.147521865889214,
          0
         ],
         "z": [
          6.254081632653062,
          0
         ]
        }
       ],
       "frames": [],
       "layout": {
        "margin": {
         "b": 50,
         "l": 50,
         "r": 50,
         "t": 60
        },
        "template": {
         "data": {
          "bar": [
           {
            "error_x": {
             "color": "#2a3f5f"
            },
            "error_y": {
             "color": "#2a3f5f"
            },
            "marker": {
             "line": {
              "color": "#E5ECF6",
              "width": 0.5
             }
            },
            "type": "bar"
           }
          ],
          "barpolar": [
           {
            "marker": {
             "line": {
              "color": "#E5ECF6",
              "width": 0.5
             }
            },
            "type": "barpolar"
           }
          ],
          "carpet": [
           {
            "aaxis": {
             "endlinecolor": "#2a3f5f",
             "gridcolor": "white",
             "linecolor": "white",
             "minorgridcolor": "white",
             "startlinecolor": "#2a3f5f"
            },
            "baxis": {
             "endlinecolor": "#2a3f5f",
             "gridcolor": "white",
             "linecolor": "white",
             "minorgridcolor": "white",
             "startlinecolor": "#2a3f5f"
            },
            "type": "carpet"
           }
          ],
          "choropleth": [
           {
            "colorbar": {
             "outlinewidth": 0,
             "ticks": ""
            },
            "type": "choropleth"
           }
          ],
          "contour": [
           {
            "colorbar": {
             "outlinewidth": 0,
             "ticks": ""
            },
            "colorscale": [
             [
              0,
              "#0d0887"
             ],
             [
              0.1111111111111111,
              "#46039f"
             ],
             [
              0.2222222222222222,
              "#7201a8"
             ],
             [
              0.3333333333333333,
              "#9c179e"
             ],
             [
              0.4444444444444444,
              "#bd3786"
             ],
             [
              0.5555555555555556,
              "#d8576b"
             ],
             [
              0.6666666666666666,
              "#ed7953"
             ],
             [
              0.7777777777777778,
              "#fb9f3a"
             ],
             [
              0.8888888888888888,
              "#fdca26"
             ],
             [
              1,
              "#f0f921"
             ]
            ],
            "type": "contour"
           }
          ],
          "contourcarpet": [
           {
            "colorbar": {
             "outlinewidth": 0,
             "ticks": ""
            },
            "type": "contourcarpet"
           }
          ],
          "heatmap": [
           {
            "colorbar": {
             "outlinewidth": 0,
             "ticks": ""
            },
            "colorscale": [
             [
              0,
              "#0d0887"
             ],
             [
              0.1111111111111111,
              "#46039f"
             ],
             [
              0.2222222222222222,
              "#7201a8"
             ],
             [
              0.3333333333333333,
              "#9c179e"
             ],
             [
              0.4444444444444444,
              "#bd3786"
             ],
             [
              0.5555555555555556,
              "#d8576b"
             ],
             [
              0.6666666666666666,
              "#ed7953"
             ],
             [
              0.7777777777777778,
              "#fb9f3a"
             ],
             [
              0.8888888888888888,
              "#fdca26"
             ],
             [
              1,
              "#f0f921"
             ]
            ],
            "type": "heatmap"
           }
          ],
          "heatmapgl": [
           {
            "colorbar": {
             "outlinewidth": 0,
             "ticks": ""
            },
            "colorscale": [
             [
              0,
              "#0d0887"
             ],
             [
              0.1111111111111111,
              "#46039f"
             ],
             [
              0.2222222222222222,
              "#7201a8"
             ],
             [
              0.3333333333333333,
              "#9c179e"
             ],
             [
              0.4444444444444444,
              "#bd3786"
             ],
             [
              0.5555555555555556,
              "#d8576b"
             ],
             [
              0.6666666666666666,
              "#ed7953"
             ],
             [
              0.7777777777777778,
              "#fb9f3a"
             ],
             [
              0.8888888888888888,
              "#fdca26"
             ],
             [
              1,
              "#f0f921"
             ]
            ],
            "type": "heatmapgl"
           }
          ],
          "histogram": [
           {
            "marker": {
             "colorbar": {
              "outlinewidth": 0,
              "ticks": ""
             }
            },
            "type": "histogram"
           }
          ],
          "histogram2d": [
           {
            "colorbar": {
             "outlinewidth": 0,
             "ticks": ""
            },
            "colorscale": [
             [
              0,
              "#0d0887"
             ],
             [
              0.1111111111111111,
              "#46039f"
             ],
             [
              0.2222222222222222,
              "#7201a8"
             ],
             [
              0.3333333333333333,
              "#9c179e"
             ],
             [
              0.4444444444444444,
              "#bd3786"
             ],
             [
              0.5555555555555556,
              "#d8576b"
             ],
             [
              0.6666666666666666,
              "#ed7953"
             ],
             [
              0.7777777777777778,
              "#fb9f3a"
             ],
             [
              0.8888888888888888,
              "#fdca26"
             ],
             [
              1,
              "#f0f921"
             ]
            ],
            "type": "histogram2d"
           }
          ],
          "histogram2dcontour": [
           {
            "colorbar": {
             "outlinewidth": 0,
             "ticks": ""
            },
            "colorscale": [
             [
              0,
              "#0d0887"
             ],
             [
              0.1111111111111111,
              "#46039f"
             ],
             [
              0.2222222222222222,
              "#7201a8"
             ],
             [
              0.3333333333333333,
              "#9c179e"
             ],
             [
              0.4444444444444444,
              "#bd3786"
             ],
             [
              0.5555555555555556,
              "#d8576b"
             ],
             [
              0.6666666666666666,
              "#ed7953"
             ],
             [
              0.7777777777777778,
              "#fb9f3a"
             ],
             [
              0.8888888888888888,
              "#fdca26"
             ],
             [
              1,
              "#f0f921"
             ]
            ],
            "type": "histogram2dcontour"
           }
          ],
          "mesh3d": [
           {
            "colorbar": {
             "outlinewidth": 0,
             "ticks": ""
            },
            "type": "mesh3d"
           }
          ],
          "parcoords": [
           {
            "line": {
             "colorbar": {
              "outlinewidth": 0,
              "ticks": ""
             }
            },
            "type": "parcoords"
           }
          ],
          "pie": [
           {
            "automargin": true,
            "type": "pie"
           }
          ],
          "scatter": [
           {
            "marker": {
             "colorbar": {
              "outlinewidth": 0,
              "ticks": ""
             }
            },
            "type": "scatter"
           }
          ],
          "scatter3d": [
           {
            "line": {
             "colorbar": {
              "outlinewidth": 0,
              "ticks": ""
             }
            },
            "marker": {
             "colorbar": {
              "outlinewidth": 0,
              "ticks": ""
             }
            },
            "type": "scatter3d"
           }
          ],
          "scattercarpet": [
           {
            "marker": {
             "colorbar": {
              "outlinewidth": 0,
              "ticks": ""
             }
            },
            "type": "scattercarpet"
           }
          ],
          "scattergeo": [
           {
            "marker": {
             "colorbar": {
              "outlinewidth": 0,
              "ticks": ""
             }
            },
            "type": "scattergeo"
           }
          ],
          "scattergl": [
           {
            "marker": {
             "colorbar": {
              "outlinewidth": 0,
              "ticks": ""
             }
            },
            "type": "scattergl"
           }
          ],
          "scattermapbox": [
           {
            "marker": {
             "colorbar": {
              "outlinewidth": 0,
              "ticks": ""
             }
            },
            "type": "scattermapbox"
           }
          ],
          "scatterpolar": [
           {
            "marker": {
             "colorbar": {
              "outlinewidth": 0,
              "ticks": ""
             }
            },
            "type": "scatterpolar"
           }
          ],
          "scatterpolargl": [
           {
            "marker": {
             "colorbar": {
              "outlinewidth": 0,
              "ticks": ""
             }
            },
            "type": "scatterpolargl"
           }
          ],
          "scatterternary": [
           {
            "marker": {
             "colorbar": {
              "outlinewidth": 0,
              "ticks": ""
             }
            },
            "type": "scatterternary"
           }
          ],
          "surface": [
           {
            "colorbar": {
             "outlinewidth": 0,
             "ticks": ""
            },
            "colorscale": [
             [
              0,
              "#0d0887"
             ],
             [
              0.1111111111111111,
              "#46039f"
             ],
             [
              0.2222222222222222,
              "#7201a8"
             ],
             [
              0.3333333333333333,
              "#9c179e"
             ],
             [
              0.4444444444444444,
              "#bd3786"
             ],
             [
              0.5555555555555556,
              "#d8576b"
             ],
             [
              0.6666666666666666,
              "#ed7953"
             ],
             [
              0.7777777777777778,
              "#fb9f3a"
             ],
             [
              0.8888888888888888,
              "#fdca26"
             ],
             [
              1,
              "#f0f921"
             ]
            ],
            "type": "surface"
           }
          ],
          "table": [
           {
            "cells": {
             "fill": {
              "color": "#EBF0F8"
             },
             "line": {
              "color": "white"
             }
            },
            "header": {
             "fill": {
              "color": "#C8D4E3"
             },
             "line": {
              "color": "white"
             }
            },
            "type": "table"
           }
          ]
         },
         "layout": {
          "annotationdefaults": {
           "arrowcolor": "#2a3f5f",
           "arrowhead": 0,
           "arrowwidth": 1
          },
          "autotypenumbers": "strict",
          "coloraxis": {
           "colorbar": {
            "outlinewidth": 0,
            "ticks": ""
           }
          },
          "colorscale": {
           "diverging": [
            [
             0,
             "#8e0152"
            ],
            [
             0.1,
             "#c51b7d"
            ],
            [
             0.2,
             "#de77ae"
            ],
            [
             0.3,
             "#f1b6da"
            ],
            [
             0.4,
             "#fde0ef"
            ],
            [
             0.5,
             "#f7f7f7"
            ],
            [
             0.6,
             "#e6f5d0"
            ],
            [
             0.7,
             "#b8e186"
            ],
            [
             0.8,
             "#7fbc41"
            ],
            [
             0.9,
             "#4d9221"
            ],
            [
             1,
             "#276419"
            ]
           ],
           "sequential": [
            [
             0,
             "#0d0887"
            ],
            [
             0.1111111111111111,
             "#46039f"
            ],
            [
             0.2222222222222222,
             "#7201a8"
            ],
            [
             0.3333333333333333,
             "#9c179e"
            ],
            [
             0.4444444444444444,
             "#bd3786"
            ],
            [
             0.5555555555555556,
             "#d8576b"
            ],
            [
             0.6666666666666666,
             "#ed7953"
            ],
            [
             0.7777777777777778,
             "#fb9f3a"
            ],
            [
             0.8888888888888888,
             "#fdca26"
            ],
            [
             1,
             "#f0f921"
            ]
           ],
           "sequentialminus": [
            [
             0,
             "#0d0887"
            ],
            [
             0.1111111111111111,
             "#46039f"
            ],
            [
             0.2222222222222222,
             "#7201a8"
            ],
            [
             0.3333333333333333,
             "#9c179e"
            ],
            [
             0.4444444444444444,
             "#bd3786"
            ],
            [
             0.5555555555555556,
             "#d8576b"
            ],
            [
             0.6666666666666666,
             "#ed7953"
            ],
            [
             0.7777777777777778,
             "#fb9f3a"
            ],
            [
             0.8888888888888888,
             "#fdca26"
            ],
            [
             1,
             "#f0f921"
            ]
           ]
          },
          "colorway": [
           "#636efa",
           "#EF553B",
           "#00cc96",
           "#ab63fa",
           "#FFA15A",
           "#19d3f3",
           "#FF6692",
           "#B6E880",
           "#FF97FF",
           "#FECB52"
          ],
          "font": {
           "color": "#2a3f5f"
          },
          "geo": {
           "bgcolor": "white",
           "lakecolor": "white",
           "landcolor": "#E5ECF6",
           "showlakes": true,
           "showland": true,
           "subunitcolor": "white"
          },
          "hoverlabel": {
           "align": "left"
          },
          "hovermode": "closest",
          "mapbox": {
           "style": "light"
          },
          "paper_bgcolor": "white",
          "plot_bgcolor": "#E5ECF6",
          "polar": {
           "angularaxis": {
            "gridcolor": "white",
            "linecolor": "white",
            "ticks": ""
           },
           "bgcolor": "#E5ECF6",
           "radialaxis": {
            "gridcolor": "white",
            "linecolor": "white",
            "ticks": ""
           }
          },
          "scene": {
           "xaxis": {
            "backgroundcolor": "#E5ECF6",
            "gridcolor": "white",
            "gridwidth": 2,
            "linecolor": "white",
            "showbackground": true,
            "ticks": "",
            "zerolinecolor": "white"
           },
           "yaxis": {
            "backgroundcolor": "#E5ECF6",
            "gridcolor": "white",
            "gridwidth": 2,
            "linecolor": "white",
            "showbackground": true,
            "ticks": "",
            "zerolinecolor": "white"
           },
           "zaxis": {
            "backgroundcolor": "#E5ECF6",
            "gridcolor": "white",
            "gridwidth": 2,
            "linecolor": "white",
            "showbackground": true,
            "ticks": "",
            "zerolinecolor": "white"
           }
          },
          "shapedefaults": {
           "line": {
            "color": "#2a3f5f"
           }
          },
          "ternary": {
           "aaxis": {
            "gridcolor": "white",
            "linecolor": "white",
            "ticks": ""
           },
           "baxis": {
            "gridcolor": "white",
            "linecolor": "white",
            "ticks": ""
           },
           "bgcolor": "#E5ECF6",
           "caxis": {
            "gridcolor": "white",
            "linecolor": "white",
            "ticks": ""
           }
          },
          "title": {
           "x": 0.05
          },
          "xaxis": {
           "automargin": true,
           "gridcolor": "white",
           "linecolor": "white",
           "ticks": "",
           "title": {
            "standoff": 15
           },
           "zerolinecolor": "white",
           "zerolinewidth": 2
          },
          "yaxis": {
           "automargin": true,
           "gridcolor": "white",
           "linecolor": "white",
           "ticks": "",
           "title": {
            "standoff": 15
           },
           "zerolinecolor": "white",
           "zerolinewidth": 2
          }
         }
        }
       }
      },
      "text/html": [
       "<div\n",
       "    class=\"webio-mountpoint\"\n",
       "    data-webio-mountpoint=\"16311254206256678031\"\n",
       ">\n",
       "    <script>\n",
       "    (function(){\n",
       "    // Some integrations (namely, IJulia/Jupyter) use an alternate render pathway than\n",
       "    // just putting the html on the page. If WebIO isn't defined, then it's pretty likely\n",
       "    // that we're in one of those situations and the integration just isn't installed\n",
       "    // correctly.\n",
       "    if (typeof window.WebIO === \"undefined\") {\n",
       "        document\n",
       "            .querySelector('[data-webio-mountpoint=\"16311254206256678031\"]')\n",
       "            .innerHTML = (\n",
       "                '<div style=\"padding: 1em; background-color: #f8d6da; border: 1px solid #f5c6cb; font-weight: bold;\">' +\n",
       "                '<p><strong>WebIO not detected.</strong></p>' +\n",
       "                '<p>Please read ' +\n",
       "                '<a href=\"https://juliagizmos.github.io/WebIO.jl/latest/troubleshooting/not-detected/\" target=\"_blank\">the troubleshooting guide</a> ' +\n",
       "                'for more information on how to resolve this issue.</p>' +\n",
       "                '<p><a href=\"https://juliagizmos.github.io/WebIO.jl/latest/troubleshooting/not-detected/\" target=\"_blank\">https://juliagizmos.github.io/WebIO.jl/latest/troubleshooting/not-detected/</a></p>' +\n",
       "                '</div>'\n",
       "            );\n",
       "        return;\n",
       "    }\n",
       "    WebIO.mount(\n",
       "        document.querySelector('[data-webio-mountpoint=\"16311254206256678031\"]'),\n",
       "        {\"props\":{},\"nodeType\":\"Scope\",\"type\":\"node\",\"instanceArgs\":{\"imports\":{\"data\":[{\"name\":\"Plotly\",\"type\":\"js\",\"url\":\"\\/assetserver\\/db01643933f428e933e6fe3f9bf0c39e9fab8888-plotly.min.js\"},{\"name\":null,\"type\":\"js\",\"url\":\"\\/assetserver\\/2838d48eaeffaf0924c124c65d5596d45c0b86cd-plotly_webio.bundle.js\"}],\"type\":\"async_block\"},\"id\":\"11510651022561682427\",\"handlers\":{\"_toImage\":[\"(function (options){return this.Plotly.toImage(this.plotElem,options).then((function (data){return WebIO.setval({\\\"name\\\":\\\"image\\\",\\\"scope\\\":\\\"11510651022561682427\\\",\\\"id\\\":\\\"4849624913155550640\\\",\\\"type\\\":\\\"observable\\\"},data)}))})\"],\"__get_gd_contents\":[\"(function (prop){prop==\\\"data\\\" ? (WebIO.setval({\\\"name\\\":\\\"__gd_contents\\\",\\\"scope\\\":\\\"11510651022561682427\\\",\\\"id\\\":\\\"1058648467532795649\\\",\\\"type\\\":\\\"observable\\\"},this.plotElem.data)) : undefined; return prop==\\\"layout\\\" ? (WebIO.setval({\\\"name\\\":\\\"__gd_contents\\\",\\\"scope\\\":\\\"11510651022561682427\\\",\\\"id\\\":\\\"1058648467532795649\\\",\\\"type\\\":\\\"observable\\\"},this.plotElem.layout)) : undefined})\"],\"_downloadImage\":[\"(function (options){return this.Plotly.downloadImage(this.plotElem,options)})\"],\"_commands\":[\"(function (args){var fn=args.shift(); var elem=this.plotElem; var Plotly=this.Plotly; args.unshift(elem); return Plotly[fn].apply(this,args)})\"]},\"systemjs_options\":null,\"mount_callbacks\":[\"function () {\\n    var handler = ((function (Plotly,PlotlyWebIO){PlotlyWebIO.init(WebIO); var gd=this.dom.querySelector(\\\"#plot-eff0b0c3-0460-481b-b3b1-c562ee6db2bb\\\"); this.plotElem=gd; this.Plotly=Plotly; (window.Blink!==undefined) ? (gd.style.width=\\\"100%\\\", gd.style.height=\\\"100vh\\\", gd.style.marginLeft=\\\"0%\\\", gd.style.marginTop=\\\"0vh\\\") : undefined; window.onresize=(function (){return Plotly.Plots.resize(gd)}); Plotly.newPlot(gd,[{\\\"mode\\\":\\\"markers\\\",\\\"y\\\":[8,7,4,4,6,9,5,6,8,10,0],\\\"type\\\":\\\"scatter3d\\\",\\\"z\\\":[2,1,2,4,2,1,9,4,7,2,0],\\\"x\\\":[2,8,-4,7,-6,6,6,2,-4,5,0]},{\\\"mode\\\":\\\"lines\\\",\\\"y\\\":[6.318556701030928,0.0],\\\"type\\\":\\\"scatter3d\\\",\\\"z\\\":[0.9026509572901326,0.0],\\\"x\\\":[7.2212076583210605,0.0]},{\\\"mode\\\":\\\"lines\\\",\\\"y\\\":[9.885483870967743,0.0],\\\"type\\\":\\\"scatter3d\\\",\\\"z\\\":[4.9427419354838715,0.0],\\\"x\\\":[-9.885483870967743,0.0]},{\\\"mode\\\":\\\"lines\\\",\\\"y\\\":[4.393548387096774,0.0],\\\"type\\\":\\\"scatter3d\\\",\\\"z\\\":[4.393548387096774,0.0],\\\"x\\\":[7.688709677419355,0.0]},{\\\"mode\\\":\\\"lines\\\",\\\"y\\\":[10.879881656804736,0.0],\\\"type\\\":\\\"scatter3d\\\",\\\"z\\\":[3.626627218934912,0.0],\\\"x\\\":[-10.879881656804736,0.0]},{\\\"mode\\\":\\\"lines\\\",\\\"y\\\":[7.173081924577374,0.0],\\\"type\\\":\\\"scatter3d\\\",\\\"z\\\":[0.7970091027308193,0.0],\\\"x\\\":[4.782054616384915,0.0]},{\\\"mode\\\":\\\"lines\\\",\\\"y\\\":[3.964424320827943,0.0],\\\"type\\\":\\\"scatter3d\\\",\\\"z\\\":[7.135963777490297,0.0],\\\"x\\\":[4.757309184993531,0.0]},{\\\"mode\\\":\\\"lines\\\",\\\"y\\\":[7.147521865889214,0.0],\\\"type\\\":\\\"scatter3d\\\",\\\"z\\\":[6.254081632653062,0.0],\\\"x\\\":[-3.573760932944607,0.0]}],{\\\"template\\\":{\\\"layout\\\":{\\\"coloraxis\\\":{\\\"colorbar\\\":{\\\"ticks\\\":\\\"\\\",\\\"outlinewidth\\\":0}},\\\"xaxis\\\":{\\\"gridcolor\\\":\\\"white\\\",\\\"zerolinewidth\\\":2,\\\"title\\\":{\\\"standoff\\\":15},\\\"ticks\\\":\\\"\\\",\\\"zerolinecolor\\\":\\\"white\\\",\\\"automargin\\\":true,\\\"linecolor\\\":\\\"white\\\"},\\\"hovermode\\\":\\\"closest\\\",\\\"paper_bgcolor\\\":\\\"white\\\",\\\"geo\\\":{\\\"showlakes\\\":true,\\\"showland\\\":true,\\\"landcolor\\\":\\\"#E5ECF6\\\",\\\"bgcolor\\\":\\\"white\\\",\\\"subunitcolor\\\":\\\"white\\\",\\\"lakecolor\\\":\\\"white\\\"},\\\"colorscale\\\":{\\\"sequential\\\":[[0.0,\\\"#0d0887\\\"],[0.1111111111111111,\\\"#46039f\\\"],[0.2222222222222222,\\\"#7201a8\\\"],[0.3333333333333333,\\\"#9c179e\\\"],[0.4444444444444444,\\\"#bd3786\\\"],[0.5555555555555556,\\\"#d8576b\\\"],[0.6666666666666666,\\\"#ed7953\\\"],[0.7777777777777778,\\\"#fb9f3a\\\"],[0.8888888888888888,\\\"#fdca26\\\"],[1.0,\\\"#f0f921\\\"]],\\\"diverging\\\":[[0,\\\"#8e0152\\\"],[0.1,\\\"#c51b7d\\\"],[0.2,\\\"#de77ae\\\"],[0.3,\\\"#f1b6da\\\"],[0.4,\\\"#fde0ef\\\"],[0.5,\\\"#f7f7f7\\\"],[0.6,\\\"#e6f5d0\\\"],[0.7,\\\"#b8e186\\\"],[0.8,\\\"#7fbc41\\\"],[0.9,\\\"#4d9221\\\"],[1,\\\"#276419\\\"]],\\\"sequentialminus\\\":[[0.0,\\\"#0d0887\\\"],[0.1111111111111111,\\\"#46039f\\\"],[0.2222222222222222,\\\"#7201a8\\\"],[0.3333333333333333,\\\"#9c179e\\\"],[0.4444444444444444,\\\"#bd3786\\\"],[0.5555555555555556,\\\"#d8576b\\\"],[0.6666666666666666,\\\"#ed7953\\\"],[0.7777777777777778,\\\"#fb9f3a\\\"],[0.8888888888888888,\\\"#fdca26\\\"],[1.0,\\\"#f0f921\\\"]]},\\\"yaxis\\\":{\\\"gridcolor\\\":\\\"white\\\",\\\"zerolinewidth\\\":2,\\\"title\\\":{\\\"standoff\\\":15},\\\"ticks\\\":\\\"\\\",\\\"zerolinecolor\\\":\\\"white\\\",\\\"automargin\\\":true,\\\"linecolor\\\":\\\"white\\\"},\\\"shapedefaults\\\":{\\\"line\\\":{\\\"color\\\":\\\"#2a3f5f\\\"}},\\\"hoverlabel\\\":{\\\"align\\\":\\\"left\\\"},\\\"mapbox\\\":{\\\"style\\\":\\\"light\\\"},\\\"polar\\\":{\\\"angularaxis\\\":{\\\"gridcolor\\\":\\\"white\\\",\\\"ticks\\\":\\\"\\\",\\\"linecolor\\\":\\\"white\\\"},\\\"bgcolor\\\":\\\"#E5ECF6\\\",\\\"radialaxis\\\":{\\\"gridcolor\\\":\\\"white\\\",\\\"ticks\\\":\\\"\\\",\\\"linecolor\\\":\\\"white\\\"}},\\\"autotypenumbers\\\":\\\"strict\\\",\\\"font\\\":{\\\"color\\\":\\\"#2a3f5f\\\"},\\\"ternary\\\":{\\\"baxis\\\":{\\\"gridcolor\\\":\\\"white\\\",\\\"ticks\\\":\\\"\\\",\\\"linecolor\\\":\\\"white\\\"},\\\"bgcolor\\\":\\\"#E5ECF6\\\",\\\"caxis\\\":{\\\"gridcolor\\\":\\\"white\\\",\\\"ticks\\\":\\\"\\\",\\\"linecolor\\\":\\\"white\\\"},\\\"aaxis\\\":{\\\"gridcolor\\\":\\\"white\\\",\\\"ticks\\\":\\\"\\\",\\\"linecolor\\\":\\\"white\\\"}},\\\"annotationdefaults\\\":{\\\"arrowhead\\\":0,\\\"arrowwidth\\\":1,\\\"arrowcolor\\\":\\\"#2a3f5f\\\"},\\\"plot_bgcolor\\\":\\\"#E5ECF6\\\",\\\"title\\\":{\\\"x\\\":0.05},\\\"scene\\\":{\\\"xaxis\\\":{\\\"gridcolor\\\":\\\"white\\\",\\\"gridwidth\\\":2,\\\"backgroundcolor\\\":\\\"#E5ECF6\\\",\\\"ticks\\\":\\\"\\\",\\\"showbackground\\\":true,\\\"zerolinecolor\\\":\\\"white\\\",\\\"linecolor\\\":\\\"white\\\"},\\\"zaxis\\\":{\\\"gridcolor\\\":\\\"white\\\",\\\"gridwidth\\\":2,\\\"backgroundcolor\\\":\\\"#E5ECF6\\\",\\\"ticks\\\":\\\"\\\",\\\"showbackground\\\":true,\\\"zerolinecolor\\\":\\\"white\\\",\\\"linecolor\\\":\\\"white\\\"},\\\"yaxis\\\":{\\\"gridcolor\\\":\\\"white\\\",\\\"gridwidth\\\":2,\\\"backgroundcolor\\\":\\\"#E5ECF6\\\",\\\"ticks\\\":\\\"\\\",\\\"showbackground\\\":true,\\\"zerolinecolor\\\":\\\"white\\\",\\\"linecolor\\\":\\\"white\\\"}},\\\"colorway\\\":[\\\"#636efa\\\",\\\"#EF553B\\\",\\\"#00cc96\\\",\\\"#ab63fa\\\",\\\"#FFA15A\\\",\\\"#19d3f3\\\",\\\"#FF6692\\\",\\\"#B6E880\\\",\\\"#FF97FF\\\",\\\"#FECB52\\\"]},\\\"data\\\":{\\\"barpolar\\\":[{\\\"type\\\":\\\"barpolar\\\",\\\"marker\\\":{\\\"line\\\":{\\\"color\\\":\\\"#E5ECF6\\\",\\\"width\\\":0.5}}}],\\\"carpet\\\":[{\\\"aaxis\\\":{\\\"gridcolor\\\":\\\"white\\\",\\\"endlinecolor\\\":\\\"#2a3f5f\\\",\\\"minorgridcolor\\\":\\\"white\\\",\\\"startlinecolor\\\":\\\"#2a3f5f\\\",\\\"linecolor\\\":\\\"white\\\"},\\\"type\\\":\\\"carpet\\\",\\\"baxis\\\":{\\\"gridcolor\\\":\\\"white\\\",\\\"endlinecolor\\\":\\\"#2a3f5f\\\",\\\"minorgridcolor\\\":\\\"white\\\",\\\"startlinecolor\\\":\\\"#2a3f5f\\\",\\\"linecolor\\\":\\\"white\\\"}}],\\\"scatterpolar\\\":[{\\\"type\\\":\\\"scatterpolar\\\",\\\"marker\\\":{\\\"colorbar\\\":{\\\"ticks\\\":\\\"\\\",\\\"outlinewidth\\\":0}}}],\\\"parcoords\\\":[{\\\"line\\\":{\\\"colorbar\\\":{\\\"ticks\\\":\\\"\\\",\\\"outlinewidth\\\":0}},\\\"type\\\":\\\"parcoords\\\"}],\\\"scatter\\\":[{\\\"type\\\":\\\"scatter\\\",\\\"marker\\\":{\\\"colorbar\\\":{\\\"ticks\\\":\\\"\\\",\\\"outlinewidth\\\":0}}}],\\\"histogram2dcontour\\\":[{\\\"colorbar\\\":{\\\"ticks\\\":\\\"\\\",\\\"outlinewidth\\\":0},\\\"type\\\":\\\"histogram2dcontour\\\",\\\"colorscale\\\":[[0.0,\\\"#0d0887\\\"],[0.1111111111111111,\\\"#46039f\\\"],[0.2222222222222222,\\\"#7201a8\\\"],[0.3333333333333333,\\\"#9c179e\\\"],[0.4444444444444444,\\\"#bd3786\\\"],[0.5555555555555556,\\\"#d8576b\\\"],[0.6666666666666666,\\\"#ed7953\\\"],[0.7777777777777778,\\\"#fb9f3a\\\"],[0.8888888888888888,\\\"#fdca26\\\"],[1.0,\\\"#f0f921\\\"]]}],\\\"contour\\\":[{\\\"colorbar\\\":{\\\"ticks\\\":\\\"\\\",\\\"outlinewidth\\\":0},\\\"type\\\":\\\"contour\\\",\\\"colorscale\\\":[[0.0,\\\"#0d0887\\\"],[0.1111111111111111,\\\"#46039f\\\"],[0.2222222222222222,\\\"#7201a8\\\"],[0.3333333333333333,\\\"#9c179e\\\"],[0.4444444444444444,\\\"#bd3786\\\"],[0.5555555555555556,\\\"#d8576b\\\"],[0.6666666666666666,\\\"#ed7953\\\"],[0.7777777777777778,\\\"#fb9f3a\\\"],[0.8888888888888888,\\\"#fdca26\\\"],[1.0,\\\"#f0f921\\\"]]}],\\\"scattercarpet\\\":[{\\\"type\\\":\\\"scattercarpet\\\",\\\"marker\\\":{\\\"colorbar\\\":{\\\"ticks\\\":\\\"\\\",\\\"outlinewidth\\\":0}}}],\\\"mesh3d\\\":[{\\\"colorbar\\\":{\\\"ticks\\\":\\\"\\\",\\\"outlinewidth\\\":0},\\\"type\\\":\\\"mesh3d\\\"}],\\\"surface\\\":[{\\\"colorbar\\\":{\\\"ticks\\\":\\\"\\\",\\\"outlinewidth\\\":0},\\\"type\\\":\\\"surface\\\",\\\"colorscale\\\":[[0.0,\\\"#0d0887\\\"],[0.1111111111111111,\\\"#46039f\\\"],[0.2222222222222222,\\\"#7201a8\\\"],[0.3333333333333333,\\\"#9c179e\\\"],[0.4444444444444444,\\\"#bd3786\\\"],[0.5555555555555556,\\\"#d8576b\\\"],[0.6666666666666666,\\\"#ed7953\\\"],[0.7777777777777778,\\\"#fb9f3a\\\"],[0.8888888888888888,\\\"#fdca26\\\"],[1.0,\\\"#f0f921\\\"]]}],\\\"scattermapbox\\\":[{\\\"type\\\":\\\"scattermapbox\\\",\\\"marker\\\":{\\\"colorbar\\\":{\\\"ticks\\\":\\\"\\\",\\\"outlinewidth\\\":0}}}],\\\"scattergeo\\\":[{\\\"type\\\":\\\"scattergeo\\\",\\\"marker\\\":{\\\"colorbar\\\":{\\\"ticks\\\":\\\"\\\",\\\"outlinewidth\\\":0}}}],\\\"histogram\\\":[{\\\"type\\\":\\\"histogram\\\",\\\"marker\\\":{\\\"colorbar\\\":{\\\"ticks\\\":\\\"\\\",\\\"outlinewidth\\\":0}}}],\\\"pie\\\":[{\\\"type\\\":\\\"pie\\\",\\\"automargin\\\":true}],\\\"choropleth\\\":[{\\\"colorbar\\\":{\\\"ticks\\\":\\\"\\\",\\\"outlinewidth\\\":0},\\\"type\\\":\\\"choropleth\\\"}],\\\"heatmapgl\\\":[{\\\"colorbar\\\":{\\\"ticks\\\":\\\"\\\",\\\"outlinewidth\\\":0},\\\"type\\\":\\\"heatmapgl\\\",\\\"colorscale\\\":[[0.0,\\\"#0d0887\\\"],[0.1111111111111111,\\\"#46039f\\\"],[0.2222222222222222,\\\"#7201a8\\\"],[0.3333333333333333,\\\"#9c179e\\\"],[0.4444444444444444,\\\"#bd3786\\\"],[0.5555555555555556,\\\"#d8576b\\\"],[0.6666666666666666,\\\"#ed7953\\\"],[0.7777777777777778,\\\"#fb9f3a\\\"],[0.8888888888888888,\\\"#fdca26\\\"],[1.0,\\\"#f0f921\\\"]]}],\\\"bar\\\":[{\\\"type\\\":\\\"bar\\\",\\\"error_y\\\":{\\\"color\\\":\\\"#2a3f5f\\\"},\\\"error_x\\\":{\\\"color\\\":\\\"#2a3f5f\\\"},\\\"marker\\\":{\\\"line\\\":{\\\"color\\\":\\\"#E5ECF6\\\",\\\"width\\\":0.5}}}],\\\"heatmap\\\":[{\\\"colorbar\\\":{\\\"ticks\\\":\\\"\\\",\\\"outlinewidth\\\":0},\\\"type\\\":\\\"heatmap\\\",\\\"colorscale\\\":[[0.0,\\\"#0d0887\\\"],[0.1111111111111111,\\\"#46039f\\\"],[0.2222222222222222,\\\"#7201a8\\\"],[0.3333333333333333,\\\"#9c179e\\\"],[0.4444444444444444,\\\"#bd3786\\\"],[0.5555555555555556,\\\"#d8576b\\\"],[0.6666666666666666,\\\"#ed7953\\\"],[0.7777777777777778,\\\"#fb9f3a\\\"],[0.8888888888888888,\\\"#fdca26\\\"],[1.0,\\\"#f0f921\\\"]]}],\\\"contourcarpet\\\":[{\\\"colorbar\\\":{\\\"ticks\\\":\\\"\\\",\\\"outlinewidth\\\":0},\\\"type\\\":\\\"contourcarpet\\\"}],\\\"table\\\":[{\\\"type\\\":\\\"table\\\",\\\"header\\\":{\\\"line\\\":{\\\"color\\\":\\\"white\\\"},\\\"fill\\\":{\\\"color\\\":\\\"#C8D4E3\\\"}},\\\"cells\\\":{\\\"line\\\":{\\\"color\\\":\\\"white\\\"},\\\"fill\\\":{\\\"color\\\":\\\"#EBF0F8\\\"}}}],\\\"scatter3d\\\":[{\\\"line\\\":{\\\"colorbar\\\":{\\\"ticks\\\":\\\"\\\",\\\"outlinewidth\\\":0}},\\\"type\\\":\\\"scatter3d\\\",\\\"marker\\\":{\\\"colorbar\\\":{\\\"ticks\\\":\\\"\\\",\\\"outlinewidth\\\":0}}}],\\\"scattergl\\\":[{\\\"type\\\":\\\"scattergl\\\",\\\"marker\\\":{\\\"colorbar\\\":{\\\"ticks\\\":\\\"\\\",\\\"outlinewidth\\\":0}}}],\\\"histogram2d\\\":[{\\\"colorbar\\\":{\\\"ticks\\\":\\\"\\\",\\\"outlinewidth\\\":0},\\\"type\\\":\\\"histogram2d\\\",\\\"colorscale\\\":[[0.0,\\\"#0d0887\\\"],[0.1111111111111111,\\\"#46039f\\\"],[0.2222222222222222,\\\"#7201a8\\\"],[0.3333333333333333,\\\"#9c179e\\\"],[0.4444444444444444,\\\"#bd3786\\\"],[0.5555555555555556,\\\"#d8576b\\\"],[0.6666666666666666,\\\"#ed7953\\\"],[0.7777777777777778,\\\"#fb9f3a\\\"],[0.8888888888888888,\\\"#fdca26\\\"],[1.0,\\\"#f0f921\\\"]]}],\\\"scatterternary\\\":[{\\\"type\\\":\\\"scatterternary\\\",\\\"marker\\\":{\\\"colorbar\\\":{\\\"ticks\\\":\\\"\\\",\\\"outlinewidth\\\":0}}}],\\\"scatterpolargl\\\":[{\\\"type\\\":\\\"scatterpolargl\\\",\\\"marker\\\":{\\\"colorbar\\\":{\\\"ticks\\\":\\\"\\\",\\\"outlinewidth\\\":0}}}]}},\\\"margin\\\":{\\\"l\\\":50,\\\"b\\\":50,\\\"r\\\":50,\\\"t\\\":60}},{\\\"showLink\\\":false,\\\"editable\\\":false,\\\"responsive\\\":true,\\\"staticPlot\\\":false,\\\"scrollZoom\\\":true}); gd.on(\\\"plotly_hover\\\",(function (data){var filtered_data=WebIO.PlotlyCommands.filterEventData(gd,data,\\\"hover\\\"); return !(filtered_data.isnil) ? (WebIO.setval({\\\"name\\\":\\\"hover\\\",\\\"scope\\\":\\\"11510651022561682427\\\",\\\"id\\\":\\\"3040899016567162359\\\",\\\"type\\\":\\\"observable\\\"},filtered_data.out)) : undefined})); gd.on(\\\"plotly_unhover\\\",(function (){return WebIO.setval({\\\"name\\\":\\\"hover\\\",\\\"scope\\\":\\\"11510651022561682427\\\",\\\"id\\\":\\\"3040899016567162359\\\",\\\"type\\\":\\\"observable\\\"},{})})); gd.on(\\\"plotly_selected\\\",(function (data){var filtered_data=WebIO.PlotlyCommands.filterEventData(gd,data,\\\"selected\\\"); return !(filtered_data.isnil) ? (WebIO.setval({\\\"name\\\":\\\"selected\\\",\\\"scope\\\":\\\"11510651022561682427\\\",\\\"id\\\":\\\"15768053159065411694\\\",\\\"type\\\":\\\"observable\\\"},filtered_data.out)) : undefined})); gd.on(\\\"plotly_deselect\\\",(function (){return WebIO.setval({\\\"name\\\":\\\"selected\\\",\\\"scope\\\":\\\"11510651022561682427\\\",\\\"id\\\":\\\"15768053159065411694\\\",\\\"type\\\":\\\"observable\\\"},{})})); gd.on(\\\"plotly_relayout\\\",(function (data){var filtered_data=WebIO.PlotlyCommands.filterEventData(gd,data,\\\"relayout\\\"); return !(filtered_data.isnil) ? (WebIO.setval({\\\"name\\\":\\\"relayout\\\",\\\"scope\\\":\\\"11510651022561682427\\\",\\\"id\\\":\\\"15763918331770579401\\\",\\\"type\\\":\\\"observable\\\"},filtered_data.out)) : undefined})); return gd.on(\\\"plotly_click\\\",(function (data){var filtered_data=WebIO.PlotlyCommands.filterEventData(gd,data,\\\"click\\\"); return !(filtered_data.isnil) ? (WebIO.setval({\\\"name\\\":\\\"click\\\",\\\"scope\\\":\\\"11510651022561682427\\\",\\\"id\\\":\\\"3439806514676917938\\\",\\\"type\\\":\\\"observable\\\"},filtered_data.out)) : undefined}))}));\\n    (WebIO.importBlock({\\\"data\\\":[{\\\"name\\\":\\\"Plotly\\\",\\\"type\\\":\\\"js\\\",\\\"url\\\":\\\"\\/assetserver\\/db01643933f428e933e6fe3f9bf0c39e9fab8888-plotly.min.js\\\"},{\\\"name\\\":null,\\\"type\\\":\\\"js\\\",\\\"url\\\":\\\"\\/assetserver\\/2838d48eaeffaf0924c124c65d5596d45c0b86cd-plotly_webio.bundle.js\\\"}],\\\"type\\\":\\\"async_block\\\"})).then((imports) => handler.apply(this, imports));\\n}\\n\"],\"observables\":{\"_toImage\":{\"sync\":false,\"id\":\"7213551931604797906\",\"value\":{}},\"hover\":{\"sync\":false,\"id\":\"3040899016567162359\",\"value\":{}},\"selected\":{\"sync\":false,\"id\":\"15768053159065411694\",\"value\":{}},\"__gd_contents\":{\"sync\":false,\"id\":\"1058648467532795649\",\"value\":{}},\"click\":{\"sync\":false,\"id\":\"3439806514676917938\",\"value\":{}},\"image\":{\"sync\":true,\"id\":\"4849624913155550640\",\"value\":\"\"},\"__get_gd_contents\":{\"sync\":false,\"id\":\"11096567529263955507\",\"value\":\"\"},\"_downloadImage\":{\"sync\":false,\"id\":\"295076463896185923\",\"value\":{}},\"relayout\":{\"sync\":false,\"id\":\"15763918331770579401\",\"value\":{}},\"_commands\":{\"sync\":false,\"id\":\"580448685474127387\",\"value\":[]}}},\"children\":[{\"props\":{\"id\":\"plot-eff0b0c3-0460-481b-b3b1-c562ee6db2bb\"},\"nodeType\":\"DOM\",\"type\":\"node\",\"instanceArgs\":{\"namespace\":\"html\",\"tag\":\"div\"},\"children\":[]}]},\n",
       "        window,\n",
       "    );\n",
       "    })()\n",
       "    </script>\n",
       "</div>\n"
      ],
      "text/plain": [
       "data: [\n",
       "  \"scatter3d with fields mode, type, x, y, and z\",\n",
       "  \"scatter3d with fields mode, type, x, y, and z\",\n",
       "  \"scatter3d with fields mode, type, x, y, and z\",\n",
       "  \"scatter3d with fields mode, type, x, y, and z\",\n",
       "  \"scatter3d with fields mode, type, x, y, and z\",\n",
       "  \"scatter3d with fields mode, type, x, y, and z\",\n",
       "  \"scatter3d with fields mode, type, x, y, and z\",\n",
       "  \"scatter3d with fields mode, type, x, y, and z\"\n",
       "]\n",
       "\n",
       "layout: \"layout with fields margin and template\"\n",
       "\n"
      ]
     },
     "execution_count": 4,
     "metadata": {},
     "output_type": "execute_result"
    }
   ],
   "source": [
    "x = rand(-10:10,10)\n",
    "y = rand(0:10,10)\n",
    "z = rand(0:10,10)\n",
    "MySet = FinalConicHullaprx([x y z])"
   ]
  },
  {
   "cell_type": "markdown",
   "id": "8c4bf23b",
   "metadata": {},
   "source": [
    "### Punto 3"
   ]
  },
  {
   "cell_type": "markdown",
   "id": "191e3f63",
   "metadata": {},
   "source": [
    "Veamos que el conjunto de soluciones de un conjunto de desigualdades de matrices lineales es convexa, para ello definamos el siguiente conjunto:\n",
    "\n",
    "$$X = \\{x | Ax \\preceq b \\} $$\n",
    "\n",
    "Ahora, sean $x,y \\in X$ y veamos que $\\theta x + (1-\\theta) y \\in X$ para $0 \\leq \\theta \\leq 1$:\n",
    "\n",
    "$$A (\\theta x + (1-\\theta) y) = (A \\theta x ) + (A (1-\\theta) y) = (\\theta Ax ) + ((1-\\theta)Ay)$$\n",
    "\n",
    "Como $x,y \\in X$  tenemos que $Ax \\preceq  b$ y $Ay \\preceq  b$, luego tenemos que: \n",
    "\n",
    "$$\\theta (Ax) + (1-\\theta)(Ay) \\preceq \\theta b + (1-\\theta) b = b$$\n",
    "\n",
    "Así tenemos que $x,y \\in X$, luego X es convexo"
   ]
  },
  {
   "cell_type": "code",
   "execution_count": null,
   "id": "1885a555",
   "metadata": {},
   "outputs": [],
   "source": []
  }
 ],
 "metadata": {
  "@webio": {
   "lastCommId": "86a0d2c0730d47d3bfc3849f4e10aca6",
   "lastKernelId": "ee50c9e6-24b4-46b5-b06a-66ca9c4117e9"
  },
  "kernelspec": {
   "display_name": "Julia 1.7.2",
   "language": "julia",
   "name": "julia-1.7"
  },
  "language_info": {
   "file_extension": ".jl",
   "mimetype": "application/julia",
   "name": "julia",
   "version": "1.7.2"
  }
 },
 "nbformat": 4,
 "nbformat_minor": 5
}
